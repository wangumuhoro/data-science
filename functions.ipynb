{
 "cells": [
  {
   "cell_type": "markdown",
   "id": "204f1544",
   "metadata": {},
   "source": [
    "## function\n",
    "A function is a group of steps that perform specific task"
   ]
  },
  {
   "cell_type": "code",
   "execution_count": 1,
   "id": "f8129d32",
   "metadata": {},
   "outputs": [],
   "source": [
    "numList = [4,8,12,16]"
   ]
  },
  {
   "cell_type": "code",
   "execution_count": 2,
   "id": "8e4821ed",
   "metadata": {},
   "outputs": [
    {
     "name": "stdout",
     "output_type": "stream",
     "text": [
      "[4, 8, 12, 16]\n"
     ]
    }
   ],
   "source": [
    "#inbuilt functions\n",
    "print (numList)"
   ]
  },
  {
   "cell_type": "code",
   "execution_count": 3,
   "id": "1f3a0c9a",
   "metadata": {},
   "outputs": [
    {
     "data": {
      "text/plain": [
       "4"
      ]
     },
     "execution_count": 3,
     "metadata": {},
     "output_type": "execute_result"
    }
   ],
   "source": [
    "len (numList)"
   ]
  },
  {
   "cell_type": "code",
   "execution_count": 4,
   "id": "84ef3809",
   "metadata": {},
   "outputs": [
    {
     "data": {
      "text/plain": [
       "list"
      ]
     },
     "execution_count": 4,
     "metadata": {},
     "output_type": "execute_result"
    }
   ],
   "source": [
    "type (numList)"
   ]
  },
  {
   "cell_type": "code",
   "execution_count": 5,
   "id": "d7d96c1f",
   "metadata": {},
   "outputs": [
    {
     "data": {
      "text/plain": [
       "int"
      ]
     },
     "execution_count": 5,
     "metadata": {},
     "output_type": "execute_result"
    }
   ],
   "source": [
    "age = 21\n",
    "type (age)"
   ]
  },
  {
   "cell_type": "code",
   "execution_count": 8,
   "id": "2bacbdfb",
   "metadata": {},
   "outputs": [
    {
     "data": {
      "text/plain": [
       "str"
      ]
     },
     "execution_count": 8,
     "metadata": {},
     "output_type": "execute_result"
    }
   ],
   "source": [
    "ageChange =str (age)\n",
    "type (ageChange)"
   ]
  },
  {
   "cell_type": "code",
   "execution_count": 9,
   "id": "e2a84405",
   "metadata": {},
   "outputs": [
    {
     "data": {
      "text/plain": [
       "'0b10101'"
      ]
     },
     "execution_count": 9,
     "metadata": {},
     "output_type": "execute_result"
    }
   ],
   "source": [
    "bin(age)"
   ]
  },
  {
   "cell_type": "code",
   "execution_count": 1,
   "id": "047ed471",
   "metadata": {},
   "outputs": [],
   "source": [
    "def area_square (l):\n",
    "    a = (l * l)\n",
    "    return (a)\n",
    "    "
   ]
  },
  {
   "cell_type": "code",
   "execution_count": null,
   "id": "b74db21c",
   "metadata": {},
   "outputs": [],
   "source": [
    "area_square(4)"
   ]
  },
  {
   "cell_type": "raw",
   "id": "2cfe832f",
   "metadata": {},
   "source": [
    "methods"
   ]
  },
  {
   "cell_type": "code",
   "execution_count": 7,
   "id": "973d70ba",
   "metadata": {},
   "outputs": [],
   "source": [
    "numList =[1,2,2,3,4,5,2,6]"
   ]
  },
  {
   "cell_type": "code",
   "execution_count": 8,
   "id": "ae38d056",
   "metadata": {},
   "outputs": [
    {
     "data": {
      "text/plain": [
       "3"
      ]
     },
     "execution_count": 8,
     "metadata": {},
     "output_type": "execute_result"
    }
   ],
   "source": [
    "numList.count(2)"
   ]
  },
  {
   "cell_type": "code",
   "execution_count": 9,
   "id": "b920deab",
   "metadata": {},
   "outputs": [
    {
     "data": {
      "text/plain": [
       "[1, 2, 2, 3, 4, 5, 2, 6, 10]"
      ]
     },
     "execution_count": 9,
     "metadata": {},
     "output_type": "execute_result"
    }
   ],
   "source": [
    "numList.append(10)\n",
    "numList"
   ]
  },
  {
   "cell_type": "code",
   "execution_count": 10,
   "id": "7a065a05",
   "metadata": {},
   "outputs": [],
   "source": [
    "import math"
   ]
  },
  {
   "cell_type": "code",
   "execution_count": 11,
   "id": "0e985bd1",
   "metadata": {},
   "outputs": [],
   "source": [
    "num =9"
   ]
  },
  {
   "cell_type": "code",
   "execution_count": 14,
   "id": "cb91c8da",
   "metadata": {},
   "outputs": [
    {
     "data": {
      "text/plain": [
       "3.0"
      ]
     },
     "execution_count": 14,
     "metadata": {},
     "output_type": "execute_result"
    }
   ],
   "source": [
    "math.sqrt(num)"
   ]
  },
  {
   "cell_type": "code",
   "execution_count": 15,
   "id": "f4669d42",
   "metadata": {},
   "outputs": [
    {
     "data": {
      "text/plain": [
       "6400"
      ]
     },
     "execution_count": 15,
     "metadata": {},
     "output_type": "execute_result"
    }
   ],
   "source": [
    "area_square(80)"
   ]
  },
  {
   "cell_type": "code",
   "execution_count": null,
   "id": "1b692612",
   "metadata": {},
   "outputs": [],
   "source": [
    "math.pow"
   ]
  }
 ],
 "metadata": {
  "kernelspec": {
   "display_name": "Python 3 (ipykernel)",
   "language": "python",
   "name": "python3"
  },
  "language_info": {
   "codemirror_mode": {
    "name": "ipython",
    "version": 3
   },
   "file_extension": ".py",
   "mimetype": "text/x-python",
   "name": "python",
   "nbconvert_exporter": "python",
   "pygments_lexer": "ipython3",
   "version": "3.9.13"
  }
 },
 "nbformat": 4,
 "nbformat_minor": 5
}
