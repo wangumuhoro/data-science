{
 "cells": [
  {
   "cell_type": "code",
   "execution_count": 1,
   "id": "0c963d1b",
   "metadata": {},
   "outputs": [],
   "source": [
    "import pandas as pd\n",
    "import numpy as np\n",
    "import sklearn\n",
    "import random\n",
    "#from collections import counter"
   ]
  },
  {
   "cell_type": "code",
   "execution_count": 3,
   "id": "bce2c7cc",
   "metadata": {},
   "outputs": [],
   "source": [
    "df = pd.read_csv('fraud_data.csv')"
   ]
  },
  {
   "cell_type": "code",
   "execution_count": 4,
   "id": "ed5f7519",
   "metadata": {},
   "outputs": [
    {
     "data": {
      "text/html": [
       "<div>\n",
       "<style scoped>\n",
       "    .dataframe tbody tr th:only-of-type {\n",
       "        vertical-align: middle;\n",
       "    }\n",
       "\n",
       "    .dataframe tbody tr th {\n",
       "        vertical-align: top;\n",
       "    }\n",
       "\n",
       "    .dataframe thead th {\n",
       "        text-align: right;\n",
       "    }\n",
       "</style>\n",
       "<table border=\"1\" class=\"dataframe\">\n",
       "  <thead>\n",
       "    <tr style=\"text-align: right;\">\n",
       "      <th></th>\n",
       "      <th>TransactionID</th>\n",
       "      <th>isFraud</th>\n",
       "      <th>TransactionDT</th>\n",
       "      <th>TransactionAmt</th>\n",
       "      <th>ProductCD</th>\n",
       "      <th>card1</th>\n",
       "      <th>card2</th>\n",
       "      <th>card3</th>\n",
       "      <th>card4</th>\n",
       "      <th>card5</th>\n",
       "      <th>...</th>\n",
       "      <th>id_31</th>\n",
       "      <th>id_32</th>\n",
       "      <th>id_33</th>\n",
       "      <th>id_34</th>\n",
       "      <th>id_35</th>\n",
       "      <th>id_36</th>\n",
       "      <th>id_37</th>\n",
       "      <th>id_38</th>\n",
       "      <th>DeviceType</th>\n",
       "      <th>DeviceInfo</th>\n",
       "    </tr>\n",
       "  </thead>\n",
       "  <tbody>\n",
       "    <tr>\n",
       "      <th>0</th>\n",
       "      <td>2994681</td>\n",
       "      <td>0</td>\n",
       "      <td>242834</td>\n",
       "      <td>25.000</td>\n",
       "      <td>H</td>\n",
       "      <td>9803</td>\n",
       "      <td>583.0</td>\n",
       "      <td>150.0</td>\n",
       "      <td>visa</td>\n",
       "      <td>226.0</td>\n",
       "      <td>...</td>\n",
       "      <td>firefox 56.0</td>\n",
       "      <td>24.0</td>\n",
       "      <td>1920x1080</td>\n",
       "      <td>match_status:2</td>\n",
       "      <td>T</td>\n",
       "      <td>F</td>\n",
       "      <td>T</td>\n",
       "      <td>T</td>\n",
       "      <td>desktop</td>\n",
       "      <td>rv:56.0</td>\n",
       "    </tr>\n",
       "    <tr>\n",
       "      <th>1</th>\n",
       "      <td>3557242</td>\n",
       "      <td>0</td>\n",
       "      <td>15123000</td>\n",
       "      <td>117.000</td>\n",
       "      <td>W</td>\n",
       "      <td>7919</td>\n",
       "      <td>194.0</td>\n",
       "      <td>150.0</td>\n",
       "      <td>mastercard</td>\n",
       "      <td>166.0</td>\n",
       "      <td>...</td>\n",
       "      <td>NaN</td>\n",
       "      <td>NaN</td>\n",
       "      <td>NaN</td>\n",
       "      <td>NaN</td>\n",
       "      <td>NaN</td>\n",
       "      <td>NaN</td>\n",
       "      <td>NaN</td>\n",
       "      <td>NaN</td>\n",
       "      <td>NaN</td>\n",
       "      <td>NaN</td>\n",
       "    </tr>\n",
       "    <tr>\n",
       "      <th>2</th>\n",
       "      <td>3327470</td>\n",
       "      <td>0</td>\n",
       "      <td>8378575</td>\n",
       "      <td>73.773</td>\n",
       "      <td>C</td>\n",
       "      <td>12778</td>\n",
       "      <td>500.0</td>\n",
       "      <td>185.0</td>\n",
       "      <td>mastercard</td>\n",
       "      <td>224.0</td>\n",
       "      <td>...</td>\n",
       "      <td>NaN</td>\n",
       "      <td>NaN</td>\n",
       "      <td>NaN</td>\n",
       "      <td>NaN</td>\n",
       "      <td>NaN</td>\n",
       "      <td>NaN</td>\n",
       "      <td>NaN</td>\n",
       "      <td>NaN</td>\n",
       "      <td>NaN</td>\n",
       "      <td>NaN</td>\n",
       "    </tr>\n",
       "    <tr>\n",
       "      <th>3</th>\n",
       "      <td>3118781</td>\n",
       "      <td>0</td>\n",
       "      <td>2607840</td>\n",
       "      <td>400.000</td>\n",
       "      <td>R</td>\n",
       "      <td>12316</td>\n",
       "      <td>548.0</td>\n",
       "      <td>150.0</td>\n",
       "      <td>visa</td>\n",
       "      <td>195.0</td>\n",
       "      <td>...</td>\n",
       "      <td>mobile safari generic</td>\n",
       "      <td>32.0</td>\n",
       "      <td>1136x640</td>\n",
       "      <td>match_status:2</td>\n",
       "      <td>T</td>\n",
       "      <td>F</td>\n",
       "      <td>T</td>\n",
       "      <td>F</td>\n",
       "      <td>mobile</td>\n",
       "      <td>iOS Device</td>\n",
       "    </tr>\n",
       "    <tr>\n",
       "      <th>4</th>\n",
       "      <td>3459772</td>\n",
       "      <td>0</td>\n",
       "      <td>12226544</td>\n",
       "      <td>31.950</td>\n",
       "      <td>W</td>\n",
       "      <td>9002</td>\n",
       "      <td>453.0</td>\n",
       "      <td>150.0</td>\n",
       "      <td>visa</td>\n",
       "      <td>226.0</td>\n",
       "      <td>...</td>\n",
       "      <td>NaN</td>\n",
       "      <td>NaN</td>\n",
       "      <td>NaN</td>\n",
       "      <td>NaN</td>\n",
       "      <td>NaN</td>\n",
       "      <td>NaN</td>\n",
       "      <td>NaN</td>\n",
       "      <td>NaN</td>\n",
       "      <td>NaN</td>\n",
       "      <td>NaN</td>\n",
       "    </tr>\n",
       "  </tbody>\n",
       "</table>\n",
       "<p>5 rows × 434 columns</p>\n",
       "</div>"
      ],
      "text/plain": [
       "   TransactionID  isFraud  TransactionDT  TransactionAmt ProductCD  card1  \\\n",
       "0        2994681        0         242834          25.000         H   9803   \n",
       "1        3557242        0       15123000         117.000         W   7919   \n",
       "2        3327470        0        8378575          73.773         C  12778   \n",
       "3        3118781        0        2607840         400.000         R  12316   \n",
       "4        3459772        0       12226544          31.950         W   9002   \n",
       "\n",
       "   card2  card3       card4  card5  ...                  id_31  id_32  \\\n",
       "0  583.0  150.0        visa  226.0  ...           firefox 56.0   24.0   \n",
       "1  194.0  150.0  mastercard  166.0  ...                    NaN    NaN   \n",
       "2  500.0  185.0  mastercard  224.0  ...                    NaN    NaN   \n",
       "3  548.0  150.0        visa  195.0  ...  mobile safari generic   32.0   \n",
       "4  453.0  150.0        visa  226.0  ...                    NaN    NaN   \n",
       "\n",
       "       id_33           id_34  id_35 id_36 id_37  id_38  DeviceType  DeviceInfo  \n",
       "0  1920x1080  match_status:2      T     F     T      T     desktop     rv:56.0  \n",
       "1        NaN             NaN    NaN   NaN   NaN    NaN         NaN         NaN  \n",
       "2        NaN             NaN    NaN   NaN   NaN    NaN         NaN         NaN  \n",
       "3   1136x640  match_status:2      T     F     T      F      mobile  iOS Device  \n",
       "4        NaN             NaN    NaN   NaN   NaN    NaN         NaN         NaN  \n",
       "\n",
       "[5 rows x 434 columns]"
      ]
     },
     "execution_count": 4,
     "metadata": {},
     "output_type": "execute_result"
    }
   ],
   "source": [
    "df.head()"
   ]
  },
  {
   "cell_type": "code",
   "execution_count": 7,
   "id": "7e6bd0aa",
   "metadata": {},
   "outputs": [
    {
     "name": "stdout",
     "output_type": "stream",
     "text": [
      "<class 'pandas.core.frame.DataFrame'>\n",
      "RangeIndex: 13088 entries, 0 to 13087\n",
      "Columns: 434 entries, TransactionID to DeviceInfo\n",
      "dtypes: float64(385), int64(18), object(31)\n",
      "memory usage: 43.3+ MB\n"
     ]
    }
   ],
   "source": [
    "df.info()"
   ]
  },
  {
   "cell_type": "code",
   "execution_count": 8,
   "id": "e15e855d",
   "metadata": {},
   "outputs": [
    {
     "data": {
      "text/plain": [
       "Index(['TransactionID', 'isFraud', 'TransactionDT', 'TransactionAmt',\n",
       "       'ProductCD', 'card1', 'card2', 'card3', 'card4', 'card5',\n",
       "       ...\n",
       "       'id_31', 'id_32', 'id_33', 'id_34', 'id_35', 'id_36', 'id_37', 'id_38',\n",
       "       'DeviceType', 'DeviceInfo'],\n",
       "      dtype='object', length=434)"
      ]
     },
     "execution_count": 8,
     "metadata": {},
     "output_type": "execute_result"
    }
   ],
   "source": [
    "df.columns"
   ]
  },
  {
   "cell_type": "code",
   "execution_count": 9,
   "id": "1ed55de8",
   "metadata": {},
   "outputs": [
    {
     "data": {
      "text/plain": [
       "0    12650\n",
       "1      438\n",
       "Name: isFraud, dtype: int64"
      ]
     },
     "execution_count": 9,
     "metadata": {},
     "output_type": "execute_result"
    }
   ],
   "source": [
    "df.isFraud.value_counts()"
   ]
  },
  {
   "cell_type": "code",
   "execution_count": 10,
   "id": "6bfcb4e0",
   "metadata": {},
   "outputs": [],
   "source": [
    "# set x and y variables\n",
    "y = df['isFraud']\n",
    "x= df.loc[:, df.columns != 'isFraud']\n",
    "\n",
    "from sklearn.model_selection import train_test_split\n",
    "\n",
    "\n",
    "# Split randomly into 70% train data and 30% test data\n",
    "\n",
    "xTrain, xTest, yTrain, yTest = train_test_split(x, y, test_size = 0.3, random_state = 123)\n",
    "\n",
    "\n"
   ]
  },
  {
   "cell_type": "code",
   "execution_count": 11,
   "id": "c764d624",
   "metadata": {},
   "outputs": [
    {
     "name": "stdout",
     "output_type": "stream",
     "text": [
      "<class 'pandas.core.frame.DataFrame'>\n",
      "Int64Index: 9161 entries, 11896 to 3582\n",
      "Columns: 433 entries, TransactionID to DeviceInfo\n",
      "dtypes: float64(385), int64(17), object(31)\n",
      "memory usage: 30.3+ MB\n"
     ]
    }
   ],
   "source": [
    "xTrain.info()"
   ]
  },
  {
   "cell_type": "code",
   "execution_count": 13,
   "id": "d73c783a",
   "metadata": {},
   "outputs": [
    {
     "data": {
      "text/plain": [
       "TransactionID        0\n",
       "TransactionDT        0\n",
       "TransactionAmt       0\n",
       "ProductCD            0\n",
       "card1                0\n",
       "                  ... \n",
       "id_36             6959\n",
       "id_37             6959\n",
       "id_38             6959\n",
       "DeviceType        6960\n",
       "DeviceInfo        7309\n",
       "Length: 433, dtype: int64"
      ]
     },
     "execution_count": 13,
     "metadata": {},
     "output_type": "execute_result"
    }
   ],
   "source": [
    "xTrain.isnull().sum() #check how many missing/null values in each variable"
   ]
  },
  {
   "cell_type": "code",
   "execution_count": 14,
   "id": "cc8ee596",
   "metadata": {},
   "outputs": [],
   "source": [
    "# Eliminate automatically variables with more than 20% of missingness\n",
    "\n",
    "xTrain_before_filling= xTrain\n",
    "xTrain = xTrain[xTrain.columns[xTrain.isnull().mean() < 0.2]]"
   ]
  },
  {
   "cell_type": "code",
   "execution_count": 15,
   "id": "ec10f52b",
   "metadata": {},
   "outputs": [
    {
     "name": "stdout",
     "output_type": "stream",
     "text": [
      "Index(['card2', 'card3', 'card4', 'card5', 'card6', 'addr1', 'addr2',\n",
      "       'P_emaildomain', 'D1', 'D10',\n",
      "       ...\n",
      "       'V312', 'V313', 'V314', 'V315', 'V316', 'V317', 'V318', 'V319', 'V320',\n",
      "       'V321'],\n",
      "      dtype='object', length=162)\n"
     ]
    }
   ],
   "source": [
    "missing_cols=xTrain.columns[xTrain.isnull().mean() > 0]\n",
    "print(missing_cols)"
   ]
  },
  {
   "cell_type": "code",
   "execution_count": 16,
   "id": "b3951ddf",
   "metadata": {},
   "outputs": [
    {
     "data": {
      "text/plain": [
       "0.008077720772841393"
      ]
     },
     "execution_count": 16,
     "metadata": {},
     "output_type": "execute_result"
    }
   ],
   "source": [
    "xTrain['card5'].isnull().mean() # let us use this variable for comparison later, keep this in mind for now!"
   ]
  },
  {
   "cell_type": "code",
   "execution_count": 17,
   "id": "e2e8579f",
   "metadata": {},
   "outputs": [
    {
     "name": "stdout",
     "output_type": "stream",
     "text": [
      "Index(['TransactionID', 'TransactionDT', 'TransactionAmt', 'card1', 'card2',\n",
      "       'card3', 'card5', 'addr1', 'addr2', 'C1',\n",
      "       ...\n",
      "       'V312', 'V313', 'V314', 'V315', 'V316', 'V317', 'V318', 'V319', 'V320',\n",
      "       'V321'],\n",
      "      dtype='object', length=177)\n",
      "TransactionID     3.282527e+06\n",
      "TransactionDT     7.378680e+06\n",
      "TransactionAmt    1.341026e+02\n",
      "card1             9.938213e+03\n",
      "card2             3.643289e+02\n",
      "                      ...     \n",
      "V317              2.830567e+02\n",
      "V318              1.878344e+02\n",
      "V319              1.609130e+01\n",
      "V320              3.898510e+01\n",
      "V321              2.610795e+01\n",
      "Length: 177, dtype: float64\n"
     ]
    },
    {
     "name": "stderr",
     "output_type": "stream",
     "text": [
      "C:\\Users\\User\\AppData\\Local\\Temp\\ipykernel_16488\\939180372.py:4: SettingWithCopyWarning: \n",
      "A value is trying to be set on a copy of a slice from a DataFrame.\n",
      "Try using .loc[row_indexer,col_indexer] = value instead\n",
      "\n",
      "See the caveats in the documentation: https://pandas.pydata.org/pandas-docs/stable/user_guide/indexing.html#returning-a-view-versus-a-copy\n",
      "  xTrain_single.loc[:,num_cols]=xTrain_single.loc[:,num_cols].fillna(xTrain_single.loc[:,num_cols].mean())\n"
     ]
    }
   ],
   "source": [
    "xTrain_single= xTrain\n",
    "cols= xTrain_single.columns\n",
    "num_cols = xTrain_single.select_dtypes(include=np.number).columns\n",
    "xTrain_single.loc[:,num_cols]=xTrain_single.loc[:,num_cols].fillna(xTrain_single.loc[:,num_cols].mean())\n",
    "print(num_cols)\n",
    "print(xTrain_single.loc[:,num_cols].mean())"
   ]
  },
  {
   "cell_type": "code",
   "execution_count": 18,
   "id": "ff29b136",
   "metadata": {},
   "outputs": [
    {
     "name": "stdout",
     "output_type": "stream",
     "text": [
      "['card4', 'P_emaildomain', 'card6', 'ProductCD']\n",
      "card4                 visa\n",
      "P_emaildomain    gmail.com\n",
      "card6                debit\n",
      "ProductCD                W\n",
      "Name: 0, dtype: object\n"
     ]
    },
    {
     "name": "stderr",
     "output_type": "stream",
     "text": [
      "C:\\Users\\User\\AppData\\Local\\Temp\\ipykernel_16488\\609063849.py:2: SettingWithCopyWarning: \n",
      "A value is trying to be set on a copy of a slice from a DataFrame.\n",
      "Try using .loc[row_indexer,col_indexer] = value instead\n",
      "\n",
      "See the caveats in the documentation: https://pandas.pydata.org/pandas-docs/stable/user_guide/indexing.html#returning-a-view-versus-a-copy\n",
      "  xTrain_single.loc[:,cat_cols] = xTrain_single.loc[:,cat_cols].fillna(xTrain.loc[:,cat_cols].mode().iloc[0])\n"
     ]
    }
   ],
   "source": [
    "cat_cols= list(set(cols) - set(num_cols))\n",
    "xTrain_single.loc[:,cat_cols] = xTrain_single.loc[:,cat_cols].fillna(xTrain.loc[:,cat_cols].mode().iloc[0])\n",
    "train_cols = xTrain_single.columns\n",
    "print(cat_cols)\n",
    "print(xTrain_single.loc[:,cat_cols].mode().iloc[0])"
   ]
  },
  {
   "cell_type": "code",
   "execution_count": 19,
   "id": "8458de25",
   "metadata": {},
   "outputs": [
    {
     "data": {
      "text/plain": [
       "Index([], dtype='object')"
      ]
     },
     "execution_count": 19,
     "metadata": {},
     "output_type": "execute_result"
    }
   ],
   "source": [
    "xTrain_single.columns[xTrain_single.isnull().mean() > 0] # select those variables with missing values"
   ]
  },
  {
   "cell_type": "code",
   "execution_count": 20,
   "id": "d1903ae2",
   "metadata": {},
   "outputs": [
    {
     "data": {
      "image/png": "[encoded data removed]",
      "text/plain": [
       "<Figure size 1600x800 with 1 Axes>"
      ]
     },
     "metadata": {},
     "output_type": "display_data"
    }
   ],
   "source": [
    "xTrain_single['card5'].plot.hist(figsize=(16,8));"
   ]
  },
  {
   "cell_type": "code",
   "execution_count": 21,
   "id": "291b140e",
   "metadata": {},
   "outputs": [
    {
     "data": {
      "image/png": "[encoded data removed]",
      "text/plain": [
       "<Figure size 1600x800 with 1 Axes>"
      ]
     },
     "metadata": {},
     "output_type": "display_data"
    }
   ],
   "source": [
    "xTrain_before_filling['card5'].plot.hist(figsize=(16,8));"
   ]
  },
  {
   "cell_type": "code",
   "execution_count": 22,
   "id": "fe341f10",
   "metadata": {},
   "outputs": [
    {
     "data": {
      "text/plain": [
       "count    9161.000000\n",
       "mean      199.608342\n",
       "std        40.989469\n",
       "min       100.000000\n",
       "25%       166.000000\n",
       "50%       226.000000\n",
       "75%       226.000000\n",
       "max       237.000000\n",
       "Name: card5, dtype: float64"
      ]
     },
     "execution_count": 22,
     "metadata": {},
     "output_type": "execute_result"
    }
   ],
   "source": [
    "xTrain_single['card5'].describe()"
   ]
  },
  {
   "cell_type": "code",
   "execution_count": 23,
   "id": "3a01bc4f",
   "metadata": {},
   "outputs": [
    {
     "data": {
      "text/plain": [
       "count    9087.000000\n",
       "mean      199.608342\n",
       "std        41.156048\n",
       "min       100.000000\n",
       "25%       166.000000\n",
       "50%       226.000000\n",
       "75%       226.000000\n",
       "max       237.000000\n",
       "Name: card5, dtype: float64"
      ]
     },
     "execution_count": 23,
     "metadata": {},
     "output_type": "execute_result"
    }
   ],
   "source": [
    "xTrain_before_filling['card5'].describe()"
   ]
  },
  {
   "cell_type": "code",
   "execution_count": 24,
   "id": "597a395c",
   "metadata": {},
   "outputs": [],
   "source": [
    "### The variable 'card5' didn't change much as a whole (except for very slight change in standard deviation of the variable) even after filling with mean values. So filling values isn't changing the existing variables much because of filling with measures like mean of the variable. It just models to not misunderstand missing values\n"
   ]
  },
  {
   "cell_type": "code",
   "execution_count": 25,
   "id": "a8da1f86",
   "metadata": {},
   "outputs": [],
   "source": [
    "xTrain= xTrain_single # let us single imputed data as further data for preprocessing in the next step"
   ]
  },
  {
   "cell_type": "code",
   "execution_count": 26,
   "id": "350a5138",
   "metadata": {},
   "outputs": [
    {
     "name": "stdout",
     "output_type": "stream",
     "text": [
      "<class 'pandas.core.frame.DataFrame'>\n",
      "Int64Index: 9161 entries, 11896 to 3582\n",
      "Columns: 181 entries, TransactionID to V321\n",
      "dtypes: float64(160), int64(17), object(4)\n",
      "memory usage: 12.7+ MB\n"
     ]
    }
   ],
   "source": [
    "xTrain.info()\n",
    "xTrain_dummy = pd.get_dummies(xTrain, prefix_sep='_', drop_first=True)"
   ]
  },
  {
   "cell_type": "code",
   "execution_count": 27,
   "id": "3f236fda",
   "metadata": {},
   "outputs": [
    {
     "data": {
      "text/html": [
       "<div>\n",
       "<style scoped>\n",
       "    .dataframe tbody tr th:only-of-type {\n",
       "        vertical-align: middle;\n",
       "    }\n",
       "\n",
       "    .dataframe tbody tr th {\n",
       "        vertical-align: top;\n",
       "    }\n",
       "\n",
       "    .dataframe thead th {\n",
       "        text-align: right;\n",
       "    }\n",
       "</style>\n",
       "<table border=\"1\" class=\"dataframe\">\n",
       "  <thead>\n",
       "    <tr style=\"text-align: right;\">\n",
       "      <th></th>\n",
       "      <th>TransactionID</th>\n",
       "      <th>TransactionDT</th>\n",
       "      <th>TransactionAmt</th>\n",
       "      <th>card1</th>\n",
       "      <th>card2</th>\n",
       "      <th>card3</th>\n",
       "      <th>card5</th>\n",
       "      <th>addr1</th>\n",
       "      <th>addr2</th>\n",
       "      <th>C1</th>\n",
       "      <th>...</th>\n",
       "      <th>P_emaildomain_twc.com</th>\n",
       "      <th>P_emaildomain_verizon.net</th>\n",
       "      <th>P_emaildomain_web.de</th>\n",
       "      <th>P_emaildomain_windstream.net</th>\n",
       "      <th>P_emaildomain_yahoo.com</th>\n",
       "      <th>P_emaildomain_yahoo.com.mx</th>\n",
       "      <th>P_emaildomain_yahoo.de</th>\n",
       "      <th>P_emaildomain_yahoo.es</th>\n",
       "      <th>P_emaildomain_yahoo.fr</th>\n",
       "      <th>P_emaildomain_ymail.com</th>\n",
       "    </tr>\n",
       "  </thead>\n",
       "  <tbody>\n",
       "    <tr>\n",
       "      <th>11896</th>\n",
       "      <td>3225154</td>\n",
       "      <td>5615484</td>\n",
       "      <td>167.000</td>\n",
       "      <td>6019</td>\n",
       "      <td>583.0</td>\n",
       "      <td>150.0</td>\n",
       "      <td>226.0</td>\n",
       "      <td>204.000000</td>\n",
       "      <td>87.000000</td>\n",
       "      <td>1</td>\n",
       "      <td>...</td>\n",
       "      <td>0</td>\n",
       "      <td>0</td>\n",
       "      <td>0</td>\n",
       "      <td>0</td>\n",
       "      <td>1</td>\n",
       "      <td>0</td>\n",
       "      <td>0</td>\n",
       "      <td>0</td>\n",
       "      <td>0</td>\n",
       "      <td>0</td>\n",
       "    </tr>\n",
       "    <tr>\n",
       "      <th>4511</th>\n",
       "      <td>3319921</td>\n",
       "      <td>8196611</td>\n",
       "      <td>171.000</td>\n",
       "      <td>14355</td>\n",
       "      <td>127.0</td>\n",
       "      <td>150.0</td>\n",
       "      <td>117.0</td>\n",
       "      <td>177.000000</td>\n",
       "      <td>87.000000</td>\n",
       "      <td>1</td>\n",
       "      <td>...</td>\n",
       "      <td>0</td>\n",
       "      <td>0</td>\n",
       "      <td>0</td>\n",
       "      <td>0</td>\n",
       "      <td>0</td>\n",
       "      <td>0</td>\n",
       "      <td>0</td>\n",
       "      <td>0</td>\n",
       "      <td>0</td>\n",
       "      <td>0</td>\n",
       "    </tr>\n",
       "    <tr>\n",
       "      <th>5754</th>\n",
       "      <td>3087540</td>\n",
       "      <td>2038234</td>\n",
       "      <td>59.000</td>\n",
       "      <td>14762</td>\n",
       "      <td>480.0</td>\n",
       "      <td>150.0</td>\n",
       "      <td>117.0</td>\n",
       "      <td>472.000000</td>\n",
       "      <td>87.000000</td>\n",
       "      <td>1</td>\n",
       "      <td>...</td>\n",
       "      <td>0</td>\n",
       "      <td>0</td>\n",
       "      <td>0</td>\n",
       "      <td>0</td>\n",
       "      <td>1</td>\n",
       "      <td>0</td>\n",
       "      <td>0</td>\n",
       "      <td>0</td>\n",
       "      <td>0</td>\n",
       "      <td>0</td>\n",
       "    </tr>\n",
       "    <tr>\n",
       "      <th>12425</th>\n",
       "      <td>3541718</td>\n",
       "      <td>14666189</td>\n",
       "      <td>117.000</td>\n",
       "      <td>4272</td>\n",
       "      <td>111.0</td>\n",
       "      <td>150.0</td>\n",
       "      <td>226.0</td>\n",
       "      <td>299.000000</td>\n",
       "      <td>87.000000</td>\n",
       "      <td>1</td>\n",
       "      <td>...</td>\n",
       "      <td>0</td>\n",
       "      <td>0</td>\n",
       "      <td>0</td>\n",
       "      <td>0</td>\n",
       "      <td>0</td>\n",
       "      <td>0</td>\n",
       "      <td>0</td>\n",
       "      <td>0</td>\n",
       "      <td>0</td>\n",
       "      <td>0</td>\n",
       "    </tr>\n",
       "    <tr>\n",
       "      <th>2179</th>\n",
       "      <td>3411322</td>\n",
       "      <td>10733664</td>\n",
       "      <td>82.950</td>\n",
       "      <td>14290</td>\n",
       "      <td>512.0</td>\n",
       "      <td>150.0</td>\n",
       "      <td>226.0</td>\n",
       "      <td>444.000000</td>\n",
       "      <td>87.000000</td>\n",
       "      <td>7</td>\n",
       "      <td>...</td>\n",
       "      <td>0</td>\n",
       "      <td>0</td>\n",
       "      <td>0</td>\n",
       "      <td>0</td>\n",
       "      <td>0</td>\n",
       "      <td>0</td>\n",
       "      <td>0</td>\n",
       "      <td>0</td>\n",
       "      <td>0</td>\n",
       "      <td>0</td>\n",
       "    </tr>\n",
       "    <tr>\n",
       "      <th>...</th>\n",
       "      <td>...</td>\n",
       "      <td>...</td>\n",
       "      <td>...</td>\n",
       "      <td>...</td>\n",
       "      <td>...</td>\n",
       "      <td>...</td>\n",
       "      <td>...</td>\n",
       "      <td>...</td>\n",
       "      <td>...</td>\n",
       "      <td>...</td>\n",
       "      <td>...</td>\n",
       "      <td>...</td>\n",
       "      <td>...</td>\n",
       "      <td>...</td>\n",
       "      <td>...</td>\n",
       "      <td>...</td>\n",
       "      <td>...</td>\n",
       "      <td>...</td>\n",
       "      <td>...</td>\n",
       "      <td>...</td>\n",
       "      <td>...</td>\n",
       "    </tr>\n",
       "    <tr>\n",
       "      <th>5218</th>\n",
       "      <td>3058266</td>\n",
       "      <td>1608480</td>\n",
       "      <td>20.522</td>\n",
       "      <td>15885</td>\n",
       "      <td>545.0</td>\n",
       "      <td>185.0</td>\n",
       "      <td>138.0</td>\n",
       "      <td>289.624616</td>\n",
       "      <td>86.792286</td>\n",
       "      <td>1</td>\n",
       "      <td>...</td>\n",
       "      <td>0</td>\n",
       "      <td>0</td>\n",
       "      <td>0</td>\n",
       "      <td>0</td>\n",
       "      <td>0</td>\n",
       "      <td>0</td>\n",
       "      <td>0</td>\n",
       "      <td>0</td>\n",
       "      <td>0</td>\n",
       "      <td>0</td>\n",
       "    </tr>\n",
       "    <tr>\n",
       "      <th>12252</th>\n",
       "      <td>3400905</td>\n",
       "      <td>10444882</td>\n",
       "      <td>113.950</td>\n",
       "      <td>7207</td>\n",
       "      <td>111.0</td>\n",
       "      <td>150.0</td>\n",
       "      <td>226.0</td>\n",
       "      <td>204.000000</td>\n",
       "      <td>87.000000</td>\n",
       "      <td>7</td>\n",
       "      <td>...</td>\n",
       "      <td>0</td>\n",
       "      <td>0</td>\n",
       "      <td>0</td>\n",
       "      <td>0</td>\n",
       "      <td>0</td>\n",
       "      <td>0</td>\n",
       "      <td>0</td>\n",
       "      <td>0</td>\n",
       "      <td>0</td>\n",
       "      <td>0</td>\n",
       "    </tr>\n",
       "    <tr>\n",
       "      <th>1346</th>\n",
       "      <td>3461491</td>\n",
       "      <td>12259883</td>\n",
       "      <td>39.000</td>\n",
       "      <td>13840</td>\n",
       "      <td>555.0</td>\n",
       "      <td>150.0</td>\n",
       "      <td>226.0</td>\n",
       "      <td>299.000000</td>\n",
       "      <td>87.000000</td>\n",
       "      <td>1</td>\n",
       "      <td>...</td>\n",
       "      <td>0</td>\n",
       "      <td>0</td>\n",
       "      <td>0</td>\n",
       "      <td>0</td>\n",
       "      <td>0</td>\n",
       "      <td>0</td>\n",
       "      <td>0</td>\n",
       "      <td>0</td>\n",
       "      <td>0</td>\n",
       "      <td>1</td>\n",
       "    </tr>\n",
       "    <tr>\n",
       "      <th>11646</th>\n",
       "      <td>3416312</td>\n",
       "      <td>10857502</td>\n",
       "      <td>26.950</td>\n",
       "      <td>10960</td>\n",
       "      <td>567.0</td>\n",
       "      <td>150.0</td>\n",
       "      <td>117.0</td>\n",
       "      <td>191.000000</td>\n",
       "      <td>87.000000</td>\n",
       "      <td>1</td>\n",
       "      <td>...</td>\n",
       "      <td>0</td>\n",
       "      <td>0</td>\n",
       "      <td>0</td>\n",
       "      <td>0</td>\n",
       "      <td>0</td>\n",
       "      <td>0</td>\n",
       "      <td>0</td>\n",
       "      <td>0</td>\n",
       "      <td>0</td>\n",
       "      <td>0</td>\n",
       "    </tr>\n",
       "    <tr>\n",
       "      <th>3582</th>\n",
       "      <td>3336458</td>\n",
       "      <td>8622027</td>\n",
       "      <td>335.000</td>\n",
       "      <td>17238</td>\n",
       "      <td>555.0</td>\n",
       "      <td>150.0</td>\n",
       "      <td>226.0</td>\n",
       "      <td>441.000000</td>\n",
       "      <td>87.000000</td>\n",
       "      <td>3</td>\n",
       "      <td>...</td>\n",
       "      <td>0</td>\n",
       "      <td>0</td>\n",
       "      <td>0</td>\n",
       "      <td>0</td>\n",
       "      <td>0</td>\n",
       "      <td>0</td>\n",
       "      <td>0</td>\n",
       "      <td>0</td>\n",
       "      <td>0</td>\n",
       "      <td>0</td>\n",
       "    </tr>\n",
       "  </tbody>\n",
       "</table>\n",
       "<p>9161 rows × 239 columns</p>\n",
       "</div>"
      ],
      "text/plain": [
       "       TransactionID  TransactionDT  TransactionAmt  card1  card2  card3  \\\n",
       "11896        3225154        5615484         167.000   6019  583.0  150.0   \n",
       "4511         3319921        8196611         171.000  14355  127.0  150.0   \n",
       "5754         3087540        2038234          59.000  14762  480.0  150.0   \n",
       "12425        3541718       14666189         117.000   4272  111.0  150.0   \n",
       "2179         3411322       10733664          82.950  14290  512.0  150.0   \n",
       "...              ...            ...             ...    ...    ...    ...   \n",
       "5218         3058266        1608480          20.522  15885  545.0  185.0   \n",
       "12252        3400905       10444882         113.950   7207  111.0  150.0   \n",
       "1346         3461491       12259883          39.000  13840  555.0  150.0   \n",
       "11646        3416312       10857502          26.950  10960  567.0  150.0   \n",
       "3582         3336458        8622027         335.000  17238  555.0  150.0   \n",
       "\n",
       "       card5       addr1      addr2  C1  ...  P_emaildomain_twc.com  \\\n",
       "11896  226.0  204.000000  87.000000   1  ...                      0   \n",
       "4511   117.0  177.000000  87.000000   1  ...                      0   \n",
       "5754   117.0  472.000000  87.000000   1  ...                      0   \n",
       "12425  226.0  299.000000  87.000000   1  ...                      0   \n",
       "2179   226.0  444.000000  87.000000   7  ...                      0   \n",
       "...      ...         ...        ...  ..  ...                    ...   \n",
       "5218   138.0  289.624616  86.792286   1  ...                      0   \n",
       "12252  226.0  204.000000  87.000000   7  ...                      0   \n",
       "1346   226.0  299.000000  87.000000   1  ...                      0   \n",
       "11646  117.0  191.000000  87.000000   1  ...                      0   \n",
       "3582   226.0  441.000000  87.000000   3  ...                      0   \n",
       "\n",
       "       P_emaildomain_verizon.net  P_emaildomain_web.de  \\\n",
       "11896                          0                     0   \n",
       "4511                           0                     0   \n",
       "5754                           0                     0   \n",
       "12425                          0                     0   \n",
       "2179                           0                     0   \n",
       "...                          ...                   ...   \n",
       "5218                           0                     0   \n",
       "12252                          0                     0   \n",
       "1346                           0                     0   \n",
       "11646                          0                     0   \n",
       "3582                           0                     0   \n",
       "\n",
       "       P_emaildomain_windstream.net  P_emaildomain_yahoo.com  \\\n",
       "11896                             0                        1   \n",
       "4511                              0                        0   \n",
       "5754                              0                        1   \n",
       "12425                             0                        0   \n",
       "2179                              0                        0   \n",
       "...                             ...                      ...   \n",
       "5218                              0                        0   \n",
       "12252                             0                        0   \n",
       "1346                              0                        0   \n",
       "11646                             0                        0   \n",
       "3582                              0                        0   \n",
       "\n",
       "       P_emaildomain_yahoo.com.mx  P_emaildomain_yahoo.de  \\\n",
       "11896                           0                       0   \n",
       "4511                            0                       0   \n",
       "5754                            0                       0   \n",
       "12425                           0                       0   \n",
       "2179                            0                       0   \n",
       "...                           ...                     ...   \n",
       "5218                            0                       0   \n",
       "12252                           0                       0   \n",
       "1346                            0                       0   \n",
       "11646                           0                       0   \n",
       "3582                            0                       0   \n",
       "\n",
       "       P_emaildomain_yahoo.es  P_emaildomain_yahoo.fr  P_emaildomain_ymail.com  \n",
       "11896                       0                       0                        0  \n",
       "4511                        0                       0                        0  \n",
       "5754                        0                       0                        0  \n",
       "12425                       0                       0                        0  \n",
       "2179                        0                       0                        0  \n",
       "...                       ...                     ...                      ...  \n",
       "5218                        0                       0                        0  \n",
       "12252                       0                       0                        0  \n",
       "1346                        0                       0                        1  \n",
       "11646                       0                       0                        0  \n",
       "3582                        0                       0                        0  \n",
       "\n",
       "[9161 rows x 239 columns]"
      ]
     },
     "execution_count": 27,
     "metadata": {},
     "output_type": "execute_result"
    }
   ],
   "source": [
    "xTrain_dummy"
   ]
  },
  {
   "cell_type": "code",
   "execution_count": 28,
   "id": "bc75db21",
   "metadata": {},
   "outputs": [
    {
     "name": "stdout",
     "output_type": "stream",
     "text": [
      "       TransactionID  TransactionDT  TransactionAmt  card1  card2  card3  \\\n",
      "11896        3225154        5615484          167.00   6019  583.0  150.0   \n",
      "4511         3319921        8196611          171.00  14355  127.0  150.0   \n",
      "5754         3087540        2038234           59.00  14762  480.0  150.0   \n",
      "12425        3541718       14666189          117.00   4272  111.0  150.0   \n",
      "2179         3411322       10733664           82.95  14290  512.0  150.0   \n",
      "\n",
      "       card5  addr1  addr2  C1  ...  P_emaildomain_twc.com  \\\n",
      "11896  226.0  204.0   87.0   1  ...                      0   \n",
      "4511   117.0  177.0   87.0   1  ...                      0   \n",
      "5754   117.0  472.0   87.0   1  ...                      0   \n",
      "12425  226.0  299.0   87.0   1  ...                      0   \n",
      "2179   226.0  444.0   87.0   7  ...                      0   \n",
      "\n",
      "       P_emaildomain_verizon.net  P_emaildomain_web.de  \\\n",
      "11896                          0                     0   \n",
      "4511                           0                     0   \n",
      "5754                           0                     0   \n",
      "12425                          0                     0   \n",
      "2179                           0                     0   \n",
      "\n",
      "       P_emaildomain_windstream.net  P_emaildomain_yahoo.com  \\\n",
      "11896                             0                        1   \n",
      "4511                              0                        0   \n",
      "5754                              0                        1   \n",
      "12425                             0                        0   \n",
      "2179                              0                        0   \n",
      "\n",
      "       P_emaildomain_yahoo.com.mx  P_emaildomain_yahoo.de  \\\n",
      "11896                           0                       0   \n",
      "4511                            0                       0   \n",
      "5754                            0                       0   \n",
      "12425                           0                       0   \n",
      "2179                            0                       0   \n",
      "\n",
      "       P_emaildomain_yahoo.es  P_emaildomain_yahoo.fr  P_emaildomain_ymail.com  \n",
      "11896                       0                       0                        0  \n",
      "4511                        0                       0                        0  \n",
      "5754                        0                       0                        0  \n",
      "12425                       0                       0                        0  \n",
      "2179                        0                       0                        0  \n",
      "\n",
      "[5 rows x 239 columns]\n",
      "(9161, 239)\n"
     ]
    }
   ],
   "source": [
    "final_tr = pd.DataFrame(data=xTrain_dummy)\n",
    "\n",
    "print(final_tr.head())\n",
    "print(final_tr.shape)"
   ]
  },
  {
   "cell_type": "code",
   "execution_count": 29,
   "id": "b8d83738",
   "metadata": {},
   "outputs": [
    {
     "name": "stdout",
     "output_type": "stream",
     "text": [
      "0.7302162620197661 {'max_depth': 6}\n"
     ]
    }
   ],
   "source": [
    "## Decision Tree using grid search CV\n",
    "from sklearn import tree\n",
    "from sklearn.model_selection import GridSearchCV\n",
    "parameters = {'max_depth':range(3,20)}\n",
    "clf = GridSearchCV(tree.DecisionTreeClassifier(), parameters, n_jobs=4,cv=5,scoring = 'roc_auc')\n",
    "clf.fit(X=final_tr, y=yTrain)\n",
    "dt = clf.best_estimator_ #final decision tree!\n",
    "print (clf.best_score_, clf.best_params_)\n"
   ]
  },
  {
   "cell_type": "code",
   "execution_count": 33,
   "id": "036e850e",
   "metadata": {},
   "outputs": [],
   "source": [
    "cols= xTest.columns\n",
    "num_cols = xTest.select_dtypes(include=np.number).columns\n",
    "xTest.loc[:,num_cols] = xTest.loc[:,num_cols].fillna(xTest.loc[:,num_cols].mean())\n",
    "\n",
    "cat_cols= list(set(cols) - set(num_cols))\n",
    "xTest.loc[:,cat_cols] = xTest.loc[:,cat_cols].fillna(xTest.loc[:,cat_cols].mode().iloc[0])\n",
    "test_cols = xTest.columns"
   ]
  },
  {
   "cell_type": "code",
   "execution_count": 37,
   "id": "fd782865",
   "metadata": {},
   "outputs": [],
   "source": [
    "#train_cols = xTrain.columns\n",
    "xTest = xTest[train_cols]"
   ]
  },
  {
   "cell_type": "code",
   "execution_count": 40,
   "id": "c20d1b49",
   "metadata": {},
   "outputs": [],
   "source": [
    "import numpy as np\n",
    "from sklearn.experimental import enable_iterative_imputer\n",
    "from sklearn.impute import IterativeImputer"
   ]
  },
  {
   "cell_type": "code",
   "execution_count": 42,
   "id": "b93c2153",
   "metadata": {},
   "outputs": [
    {
     "name": "stdout",
     "output_type": "stream",
     "text": [
      "   TransactionID  TransactionDT  TransactionAmt     card1     card2     card3  \\\n",
      "0      -0.336705      -0.382177        0.143567 -0.802971  1.403072 -0.272831   \n",
      "1       0.219455       0.177288        0.161023  0.904914 -1.522787 -0.272831   \n",
      "2      -1.144322      -1.157553       -0.327753  0.988301  0.742187 -0.272831   \n",
      "3       1.521118       1.579583       -0.074637 -1.160898 -1.625449 -0.272831   \n",
      "4       0.755861       0.727200       -0.223234  0.891597  0.947511 -0.272831   \n",
      "\n",
      "      card5     addr1     addr2        C1  ...  P_emaildomain_twc.com  \\\n",
      "0  0.643900 -0.896916  0.074805 -0.102887  ...              -0.023369   \n",
      "1 -2.015465 -1.179741  0.074805 -0.102887  ...              -0.023369   \n",
      "2 -2.015465  1.910379  0.074805 -0.102887  ...              -0.023369   \n",
      "3  0.643900  0.098207  0.074805 -0.102887  ...              -0.023369   \n",
      "4  0.643900  1.617079  0.074805 -0.052577  ...              -0.023369   \n",
      "\n",
      "   P_emaildomain_verizon.net  P_emaildomain_web.de  \\\n",
      "0                  -0.062811               -0.0209   \n",
      "1                  -0.062811               -0.0209   \n",
      "2                  -0.062811               -0.0209   \n",
      "3                  -0.062811               -0.0209   \n",
      "4                  -0.062811               -0.0209   \n",
      "\n",
      "   P_emaildomain_windstream.net  P_emaildomain_yahoo.com  \\\n",
      "0                     -0.029564                 2.235922   \n",
      "1                     -0.029564                -0.447243   \n",
      "2                     -0.029564                 2.235922   \n",
      "3                     -0.029564                -0.447243   \n",
      "4                     -0.029564                -0.447243   \n",
      "\n",
      "   P_emaildomain_yahoo.com.mx  P_emaildomain_yahoo.de  P_emaildomain_yahoo.es  \\\n",
      "0                   -0.060127               -0.018099               -0.018099   \n",
      "1                   -0.060127               -0.018099               -0.018099   \n",
      "2                   -0.060127               -0.018099               -0.018099   \n",
      "3                   -0.060127               -0.018099               -0.018099   \n",
      "4                   -0.060127               -0.018099               -0.018099   \n",
      "\n",
      "   P_emaildomain_yahoo.fr  P_emaildomain_ymail.com  \n",
      "0               -0.014777                -0.062811  \n",
      "1               -0.014777                -0.062811  \n",
      "2               -0.014777                -0.062811  \n",
      "3               -0.014777                -0.062811  \n",
      "4               -0.014777                -0.062811  \n",
      "\n",
      "[5 rows x 239 columns]\n",
      "(9161, 239)\n"
     ]
    }
   ],
   "source": [
    "from sklearn import preprocessing\n",
    "scaled_tr = preprocessing.StandardScaler().fit_transform(xTrain_dummy)\n",
    "final_tr = pd.DataFrame(data=scaled_tr)\n",
    "final_tr.columns= xTrain_dummy.columns\n",
    "final_tr\n",
    "print(final_tr.head())\n",
    "print(final_tr.shape)"
   ]
  },
  {
   "cell_type": "code",
   "execution_count": null,
   "id": "5a31daa3",
   "metadata": {},
   "outputs": [],
   "source": []
  }
 ],
 "metadata": {
  "kernelspec": {
   "display_name": "Python 3 (ipykernel)",
   "language": "python",
   "name": "python3"
  },
  "language_info": {
   "codemirror_mode": {
    "name": "ipython",
    "version": 3
   },
   "file_extension": ".py",
   "mimetype": "text/x-python",
   "name": "python",
   "nbconvert_exporter": "python",
   "pygments_lexer": "ipython3",
   "version": "3.9.13"
  }
 },
 "nbformat": 4,
 "nbformat_minor": 5
}
