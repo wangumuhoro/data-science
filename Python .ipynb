{
 "cells": [
  {
   "cell_type": "code",
   "execution_count": 8,
   "id": "f5bf6930",
   "metadata": {},
   "outputs": [
    {
     "name": "stdout",
     "output_type": "stream",
     "text": [
      "Hi Mac\n"
     ]
    }
   ],
   "source": [
    "print (\"Hi Mac\")"
   ]
  },
  {
   "cell_type": "code",
   "execution_count": 2,
   "id": "31abbf5f",
   "metadata": {},
   "outputs": [],
   "source": [
    "a = 5\n",
    "k = \"Mac\""
   ]
  },
  {
   "cell_type": "code",
   "execution_count": 10,
   "id": "9b78a3af",
   "metadata": {},
   "outputs": [
    {
     "name": "stdout",
     "output_type": "stream",
     "text": [
      "5\n"
     ]
    }
   ],
   "source": [
    "print (a)"
   ]
  },
  {
   "cell_type": "code",
   "execution_count": 3,
   "id": "368d3c88",
   "metadata": {},
   "outputs": [],
   "source": [
    "b = 16"
   ]
  },
  {
   "cell_type": "code",
   "execution_count": 11,
   "id": "61f903e7",
   "metadata": {},
   "outputs": [
    {
     "name": "stdout",
     "output_type": "stream",
     "text": [
      "516\n"
     ]
    }
   ],
   "source": [
    "ans= a + b\n",
    "print (ans)\n"
   ]
  },
  {
   "cell_type": "code",
   "execution_count": 4,
   "id": "ef56a4cb",
   "metadata": {},
   "outputs": [
    {
     "name": "stdout",
     "output_type": "stream",
     "text": [
      "80\n"
     ]
    }
   ],
   "source": [
    "ans1= a * b\n",
    "print (ans1)"
   ]
  },
  {
   "cell_type": "code",
   "execution_count": 18,
   "id": "32fe6f1f",
   "metadata": {},
   "outputs": [
    {
     "name": "stdout",
     "output_type": "stream",
     "text": [
      "5\n"
     ]
    }
   ],
   "source": [
    "ans2= 5%16\n",
    "print (ans2)"
   ]
  },
  {
   "cell_type": "code",
   "execution_count": 19,
   "id": "fa47c2e4",
   "metadata": {},
   "outputs": [
    {
     "data": {
      "text/plain": [
       "True"
      ]
     },
     "execution_count": 19,
     "metadata": {},
     "output_type": "execute_result"
    }
   ],
   "source": [
    "5<16"
   ]
  },
  {
   "cell_type": "code",
   "execution_count": 20,
   "id": "048ada4f",
   "metadata": {},
   "outputs": [
    {
     "data": {
      "text/plain": [
       "True"
      ]
     },
     "execution_count": 20,
     "metadata": {},
     "output_type": "execute_result"
    }
   ],
   "source": [
    "16>5"
   ]
  },
  {
   "cell_type": "code",
   "execution_count": 21,
   "id": "a89281ea",
   "metadata": {},
   "outputs": [
    {
     "name": "stdout",
     "output_type": "stream",
     "text": [
      "0.3125\n"
     ]
    }
   ],
   "source": [
    "ans3= 5 / 16\n",
    "print (ans3)"
   ]
  },
  {
   "cell_type": "code",
   "execution_count": 23,
   "id": "d4e7ddb6",
   "metadata": {},
   "outputs": [
    {
     "name": "stdout",
     "output_type": "stream",
     "text": [
      "a = b 5 = 16\n"
     ]
    }
   ],
   "source": [
    "newNumber = input(\"a = b\")"
   ]
  },
  {
   "cell_type": "raw",
   "id": "68dfb555",
   "metadata": {},
   "source": [
    "integer\n",
    "float\n",
    "string \n",
    "boolean"
   ]
  },
  {
   "cell_type": "code",
   "execution_count": 12,
   "id": "81ca18ff",
   "metadata": {},
   "outputs": [
    {
     "name": "stdout",
     "output_type": "stream",
     "text": [
      "M\n"
     ]
    }
   ],
   "source": [
    "name = 'Macleen'\n",
    "print (name[-7])"
   ]
  },
  {
   "cell_type": "code",
   "execution_count": 15,
   "id": "e3f33dac",
   "metadata": {},
   "outputs": [
    {
     "name": "stdout",
     "output_type": "stream",
     "text": [
      "7\n"
     ]
    }
   ],
   "source": [
    "print (len(name))"
   ]
  },
  {
   "cell_type": "code",
   "execution_count": 13,
   "id": "92c1e29b",
   "metadata": {},
   "outputs": [],
   "source": [
    "name2 = 'Wangu'\n",
    "sentence = 'my name is ' + name +' ' + name2"
   ]
  },
  {
   "cell_type": "code",
   "execution_count": 14,
   "id": "d6705e25",
   "metadata": {},
   "outputs": [
    {
     "name": "stdout",
     "output_type": "stream",
     "text": [
      "my name is Macleen Wangu\n"
     ]
    }
   ],
   "source": [
    "print (sentence)"
   ]
  },
  {
   "cell_type": "markdown",
   "id": "f93af7e2",
   "metadata": {},
   "source": [
    "##list"
   ]
  },
  {
   "cell_type": "code",
   "execution_count": 17,
   "id": "7ba10431",
   "metadata": {},
   "outputs": [
    {
     "data": {
      "text/plain": [
       "['clothes', 'shoes', 'laptops', 4, 8]"
      ]
     },
     "execution_count": 17,
     "metadata": {},
     "output_type": "execute_result"
    }
   ],
   "source": [
    "#shopping list\n",
    "shoppingList = ['clothes', 'shoes', 'laptops', 4, 8]\n",
    "shoppingList"
   ]
  },
  {
   "cell_type": "code",
   "execution_count": 20,
   "id": "2b3fcb5c",
   "metadata": {
    "scrolled": true
   },
   "outputs": [
    {
     "name": "stdout",
     "output_type": "stream",
     "text": [
      "['clothes', 'shoes', 'laptops', 4, 8, 'sweater', 'sweater']\n"
     ]
    }
   ],
   "source": [
    "shoppingList.append('sweater')\n",
    "print (shoppingList)"
   ]
  },
  {
   "cell_type": "code",
   "execution_count": 21,
   "id": "cfd3bfbc",
   "metadata": {},
   "outputs": [
    {
     "name": "stdout",
     "output_type": "stream",
     "text": [
      "2\n"
     ]
    }
   ],
   "source": [
    "print (shoppingList.count('sweater'))"
   ]
  },
  {
   "cell_type": "code",
   "execution_count": 22,
   "id": "07bd9714",
   "metadata": {},
   "outputs": [
    {
     "name": "stdout",
     "output_type": "stream",
     "text": [
      "7\n"
     ]
    }
   ],
   "source": [
    "print(len(shoppingList))"
   ]
  },
  {
   "cell_type": "code",
   "execution_count": 23,
   "id": "8be9541d",
   "metadata": {},
   "outputs": [
    {
     "data": {
      "text/plain": [
       "2"
      ]
     },
     "execution_count": 23,
     "metadata": {},
     "output_type": "execute_result"
    }
   ],
   "source": [
    "numSweater= shoppingList.count('sweater')\n",
    "numSweater"
   ]
  },
  {
   "cell_type": "code",
   "execution_count": 25,
   "id": "9728a68a",
   "metadata": {},
   "outputs": [
    {
     "data": {
      "text/plain": [
       "1"
      ]
     },
     "execution_count": 25,
     "metadata": {},
     "output_type": "execute_result"
    }
   ],
   "source": [
    "numShoes=shoppingList.count('shoes')\n",
    "numShoes"
   ]
  },
  {
   "cell_type": "code",
   "execution_count": 33,
   "id": "f91a1183",
   "metadata": {},
   "outputs": [
    {
     "data": {
      "text/plain": [
       "('shoes', 'bags', 'clothes')"
      ]
     },
     "execution_count": 33,
     "metadata": {},
     "output_type": "execute_result"
    }
   ],
   "source": [
    "shopping1 = (\"shoes\", \"bags\", \"clothes\" )\n",
    "shopping1"
   ]
  }
 ],
 "metadata": {
  "kernelspec": {
   "display_name": "Python 3 (ipykernel)",
   "language": "python",
   "name": "python3"
  },
  "language_info": {
   "codemirror_mode": {
    "name": "ipython",
    "version": 3
   },
   "file_extension": ".py",
   "mimetype": "text/x-python",
   "name": "python",
   "nbconvert_exporter": "python",
   "pygments_lexer": "ipython3",
   "version": "3.9.13"
  }
 },
 "nbformat": 4,
 "nbformat_minor": 5
}
