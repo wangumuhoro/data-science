{
  "nbformat": 4,
  "nbformat_minor": 0,
  "metadata": {
    "colab": {
      "provenance": [],
      "collapsed_sections": []
    },
    "kernelspec": {
      "name": "python3",
      "display_name": "Python 3"
    },
    "language_info": {
      "name": "python"
    }
  },
  "cells": [
    {
      "cell_type": "markdown",
      "source": [
        "This is the second Notebook of the course **Introduction to Numpy**\n",
        "This notebooks covers the following topics\n",
        "- Attributes of an array and creating basic array\n",
        "- Basic Methods as append,remove,sort\n",
        "- Indexing and slicing\n"
      ],
      "metadata": {
        "id": "t9aYor-WpCBp"
      }
    },
    {
      "cell_type": "markdown",
      "source": [
        "<h1><center><b>Basic Operations</b></center></h1>\n",
        "\n",
        "Python program to demonstrate basic operations using numpy"
      ],
      "metadata": {
        "id": "tzWoOKAgLjEa"
      }
    },
    {
      "cell_type": "code",
      "source": [
        "import numpy as np\n",
        "a = np.array([7, 6, 8, 9])\n",
        "print(a)"
      ],
      "metadata": {
        "colab": {
          "base_uri": "https://localhost:8080/"
        },
        "id": "A5GjaOkKLrNn",
        "outputId": "7adde89d-9e67-4d1d-c948-4759fbc1e017"
      },
      "execution_count": null,
      "outputs": [
        {
          "output_type": "stream",
          "name": "stdout",
          "text": [
            "[7 6 8 9]\n"
          ]
        }
      ]
    },
    {
      "cell_type": "code",
      "source": [
        "# adding 3 to every element\n",
        "a = np.array([7, 6, 8, 9])\n",
        "print (\"Adding 1 to every element:\", a+1)"
      ],
      "metadata": {
        "colab": {
          "base_uri": "https://localhost:8080/"
        },
        "id": "YxK6TKKem5AG",
        "outputId": "f600dd31-cd57-4e37-b345-22022286d324"
      },
      "execution_count": null,
      "outputs": [
        {
          "output_type": "stream",
          "name": "stdout",
          "text": [
            "Adding 1 to every element: [ 8  7  9 10]\n"
          ]
        }
      ]
    },
    {
      "cell_type": "code",
      "source": [
        "# subtracting 4 from each element\n",
        "a = np.array([7, 6, 8, 9])\n",
        "print(\"Subtracting 3 from each element:\", a-4)"
      ],
      "metadata": {
        "colab": {
          "base_uri": "https://localhost:8080/"
        },
        "id": "pqC2tgUMm7qy",
        "outputId": "770fa98d-08fc-49db-ea68-259619950065"
      },
      "execution_count": null,
      "outputs": [
        {
          "output_type": "stream",
          "name": "stdout",
          "text": [
            "Subtracting 3 from each element: [3 2 4 5]\n"
          ]
        }
      ]
    },
    {
      "cell_type": "code",
      "source": [
        "# multiply each element by 10\n",
        "a = np.array([7, 6, 8, 9])\n",
        "print (\"Multiplying each element by 5:\", a*5)"
      ],
      "metadata": {
        "colab": {
          "base_uri": "https://localhost:8080/"
        },
        "id": "kmZZqIv3m-PB",
        "outputId": "a90f86a4-f042-43f2-cd36-a8a305bb9dc4"
      },
      "execution_count": null,
      "outputs": [
        {
          "output_type": "stream",
          "name": "stdout",
          "text": [
            "Multiplying each element by 5: [35 30 40 45]\n"
          ]
        }
      ]
    },
    {
      "cell_type": "code",
      "source": [
        "# squaring each element of the array\n",
        "print (\"Squaring each element:\", a**2)"
      ],
      "metadata": {
        "colab": {
          "base_uri": "https://localhost:8080/"
        },
        "id": "eamcLvPlnA4s",
        "outputId": "ce1bf138-dd9d-4623-b144-8b763ee1d919"
      },
      "execution_count": null,
      "outputs": [
        {
          "output_type": "stream",
          "name": "stdout",
          "text": [
            "Squaring each element: [49 36 64 81]\n"
          ]
        }
      ]
    },
    {
      "cell_type": "code",
      "source": [
        "# modify existing array\n",
        "a *= 2\n",
        "print (\"Doubled each element of original array:\", a)"
      ],
      "metadata": {
        "colab": {
          "base_uri": "https://localhost:8080/"
        },
        "id": "8ikr5_H1nDfr",
        "outputId": "4847d621-85f4-4c94-b488-f4b77bf0f35d"
      },
      "execution_count": null,
      "outputs": [
        {
          "output_type": "stream",
          "name": "stdout",
          "text": [
            "Doubled each element of original array: [14 12 16 18]\n"
          ]
        }
      ]
    },
    {
      "cell_type": "code",
      "source": [
        "# transpose of array\n",
        "a = np.array([[3, 1, 2], [6, 5, 4], [7, 9, 8]])\n",
        "\n",
        "print (\"\\nOriginal array is:\\n\", a)\n",
        "print (\"Transpose of array is:\\n\", a.T)"
      ],
      "metadata": {
        "colab": {
          "base_uri": "https://localhost:8080/"
        },
        "id": "2fU9jArHnGGK",
        "outputId": "66576bfc-7fb7-47ee-82af-d08e4df94eb8"
      },
      "execution_count": null,
      "outputs": [
        {
          "output_type": "stream",
          "name": "stdout",
          "text": [
            "\n",
            "Original array is:\n",
            " [[3 1 2]\n",
            " [6 5 4]\n",
            " [7 9 8]]\n",
            "Transpose of array is:\n",
            " [[3 6 7]\n",
            " [1 5 9]\n",
            " [2 4 8]]\n"
          ]
        }
      ]
    },
    {
      "cell_type": "markdown",
      "source": [
        "**Append**"
      ],
      "metadata": {
        "id": "jyscdMEaXaYp"
      }
    },
    {
      "cell_type": "code",
      "source": [
        "arr = np.array([1,9,8,4,5,6])\n",
        "np.append(arr,7)"
      ],
      "metadata": {
        "colab": {
          "base_uri": "https://localhost:8080/"
        },
        "id": "mUHBUFAQXhPE",
        "outputId": "25696505-6499-41a5-d1f6-adb1f6997b6c"
      },
      "execution_count": null,
      "outputs": [
        {
          "output_type": "execute_result",
          "data": {
            "text/plain": [
              "array([1, 9, 8, 4, 5, 6, 7])"
            ]
          },
          "metadata": {},
          "execution_count": 69
        }
      ]
    },
    {
      "cell_type": "markdown",
      "source": [
        "Adding an element to a Python list using np.append() method. But the returned object is a NumPy array."
      ],
      "metadata": {
        "id": "Lsf9-XuHX9jf"
      }
    },
    {
      "cell_type": "code",
      "source": [
        "l = [2,3,5,4,7,6]\n",
        "arr = np.append(l,10)\n",
        "arr"
      ],
      "metadata": {
        "colab": {
          "base_uri": "https://localhost:8080/"
        },
        "id": "BKZl56D5YBPn",
        "outputId": "0b316cae-7e0c-44a8-d89b-16c24142e427"
      },
      "execution_count": null,
      "outputs": [
        {
          "output_type": "execute_result",
          "data": {
            "text/plain": [
              "array([ 2,  3,  5,  4,  7,  6, 10])"
            ]
          },
          "metadata": {},
          "execution_count": 70
        }
      ]
    },
    {
      "cell_type": "markdown",
      "source": [
        "We can also add a list of elements."
      ],
      "metadata": {
        "id": "eNaxl7sgYKrt"
      }
    },
    {
      "cell_type": "code",
      "source": [
        "np.append(arr, [11, 22])"
      ],
      "metadata": {
        "colab": {
          "base_uri": "https://localhost:8080/"
        },
        "id": "QP_BlxzHYPKd",
        "outputId": "7475028d-d1e5-48fa-cc61-8acd178fafcd"
      },
      "execution_count": null,
      "outputs": [
        {
          "output_type": "execute_result",
          "data": {
            "text/plain": [
              "array([ 2,  3,  5,  4,  7,  6, 10, 11, 22])"
            ]
          },
          "metadata": {},
          "execution_count": 71
        }
      ]
    },
    {
      "cell_type": "markdown",
      "source": [
        "Caution!\n",
        "A NumPy array doesn’t support append() method directly on the array. The given snippet will clear this:"
      ],
      "metadata": {
        "id": "A1wIk_TeYWIO"
      }
    },
    {
      "cell_type": "code",
      "source": [
        "#arr.append(23)"
      ],
      "metadata": {
        "id": "b-Ad8kOkYX7E"
      },
      "execution_count": null,
      "outputs": []
    },
    {
      "cell_type": "markdown",
      "source": [
        "**remove an element**"
      ],
      "metadata": {
        "id": "utSBESx2ZnMF"
      }
    },
    {
      "cell_type": "code",
      "source": [
        "arr = np.array([2,5,8,9,7,6])\n",
        "np.delete(arr,1)       #removing the element at index 1"
      ],
      "metadata": {
        "colab": {
          "base_uri": "https://localhost:8080/"
        },
        "id": "7pAouo_WZtRD",
        "outputId": "d46f4282-e501-41f2-80aa-d024ac04ecbf"
      },
      "execution_count": null,
      "outputs": [
        {
          "output_type": "execute_result",
          "data": {
            "text/plain": [
              "array([2, 8, 9, 7, 6])"
            ]
          },
          "metadata": {},
          "execution_count": 73
        }
      ]
    },
    {
      "cell_type": "markdown",
      "source": [
        "<b>Sorting</b>"
      ],
      "metadata": {
        "id": "OguAm4YisKBH"
      }
    },
    {
      "cell_type": "code",
      "source": [
        "#sorting an array of integers\n",
        "arr = np.array([3, 2, 4, 1])\n",
        "print(np.sort(arr))"
      ],
      "metadata": {
        "colab": {
          "base_uri": "https://localhost:8080/"
        },
        "id": "XBjqFNMPomqL",
        "outputId": "a37f4e61-a82c-4aa4-a710-ec9c7f159d2a"
      },
      "execution_count": null,
      "outputs": [
        {
          "output_type": "stream",
          "name": "stdout",
          "text": [
            "[1 2 3 4]\n"
          ]
        }
      ]
    },
    {
      "cell_type": "code",
      "source": [
        "#sorting an array alphabetically\n",
        "arr = np.array(['Lamborghini', 'Porsche', 'Mercedes'])\n",
        "print(np.sort(arr))"
      ],
      "metadata": {
        "colab": {
          "base_uri": "https://localhost:8080/"
        },
        "id": "eNA9f-e1ox4x",
        "outputId": "1a1732de-f7df-42c4-f79f-d9f34b3c6e4b"
      },
      "execution_count": null,
      "outputs": [
        {
          "output_type": "stream",
          "name": "stdout",
          "text": [
            "['Lamborghini' 'Mercedes' 'Porsche']\n"
          ]
        }
      ]
    },
    {
      "cell_type": "code",
      "source": [
        "#sorting a 2-D array\n",
        "arr = np.array([[5, 7, 8], \n",
        "                [6, 2, 3]])\n",
        "print(np.sort(arr))"
      ],
      "metadata": {
        "colab": {
          "base_uri": "https://localhost:8080/"
        },
        "id": "GuGuLoKuo7WC",
        "outputId": "4b2c1d0c-58cb-41ab-fc7e-5865bc6f379c"
      },
      "execution_count": null,
      "outputs": [
        {
          "output_type": "stream",
          "name": "stdout",
          "text": [
            "[[5 7 8]\n",
            " [2 3 6]]\n"
          ]
        }
      ]
    },
    {
      "cell_type": "markdown",
      "source": [
        "<b>Searching</b>"
      ],
      "metadata": {
        "id": "uyL_MjiCsNWW"
      }
    },
    {
      "cell_type": "code",
      "source": [
        "#Find the indexes where the value is 4:\n",
        "arr = np.array([1, 2, 3, 4, 5, 4, 4])\n",
        "array = np.where(arr == 4)\n",
        "print(array)"
      ],
      "metadata": {
        "colab": {
          "base_uri": "https://localhost:8080/"
        },
        "id": "z_PIFwzcsPnI",
        "outputId": "695acbed-7329-4ebf-f812-ba8497676f6a"
      },
      "execution_count": null,
      "outputs": [
        {
          "output_type": "stream",
          "name": "stdout",
          "text": [
            "(array([3, 5, 6]),)\n"
          ]
        }
      ]
    },
    {
      "cell_type": "code",
      "source": [
        "#Find the indexes where the values are even:\n",
        "arr = np.array([1, 2, 3, 4, 5, 6, 7, 8])\n",
        "x = np.where(arr%2 == 0)\n",
        "print(x)"
      ],
      "metadata": {
        "colab": {
          "base_uri": "https://localhost:8080/"
        },
        "id": "Y4HowbShsWmY",
        "outputId": "baf86f91-9a16-4007-d7ec-7a68e0c34f61"
      },
      "execution_count": null,
      "outputs": [
        {
          "output_type": "stream",
          "name": "stdout",
          "text": [
            "(array([1, 3, 5, 7]),)\n"
          ]
        }
      ]
    },
    {
      "cell_type": "markdown",
      "source": [
        "<b><h1><center> Indexing and Slicing </center></h1></b>"
      ],
      "metadata": {
        "id": "qXcT6ew0fmHb"
      }
    },
    {
      "cell_type": "markdown",
      "source": [
        "## Array indexing\n",
        "\n",
        "To access the content of an array we can use indexing through brackets [ ]. When using the brackets, we can access the elements on the list by:\n",
        "\n",
        "- Using a positive single index starting from 0\n",
        "- Using a negative single index starting from -1\n",
        "- Using positive index intervals using the start:end:step notation to specify starting and ending values as well as the step.\n",
        "- Using negative index intervals using the start:end:step notation to specify negative index starting and ending values as well as the step.\n",
        "\n",
        "Occasionally, we can:\n",
        "\n",
        "- Get ride of the the step value as sart:end, so that by default we slice the data with a step of 1.\n",
        "- Get ride of the start value as :fin:step, and hence our start index will be 0, by default.\n",
        "- Omit the end value as start::step, specifying the final position as the end index by default.\n",
        "- Specify the range as ::step, and hence the start position will be 0 and the end position will be the last one of the array.\n",
        "Let's see how indexing works using the weights and heights_np arrays:"
      ],
      "metadata": {
        "id": "8h2k5giayWmO"
      }
    },
    {
      "cell_type": "markdown",
      "source": [
        "**Array Indexing**"
      ],
      "metadata": {
        "id": "O8yIFmvyKNVS"
      }
    },
    {
      "cell_type": "markdown",
      "source": [
        "Accessing Array elements from 1-D array"
      ],
      "metadata": {
        "id": "ZUyE28WwKr6J"
      }
    },
    {
      "cell_type": "code",
      "source": [
        "# Get the first element from the following array:\n",
        "import numpy as np\n",
        "arr = np.array([9, 8, 4, 5])\n",
        "print(arr[0])"
      ],
      "metadata": {
        "colab": {
          "base_uri": "https://localhost:8080/"
        },
        "id": "RGbCplQMJ9F_",
        "outputId": "cb4e9e5b-5356-48e2-e7d1-096b64f9588f"
      },
      "execution_count": null,
      "outputs": [
        {
          "output_type": "stream",
          "name": "stdout",
          "text": [
            "9\n"
          ]
        }
      ]
    },
    {
      "cell_type": "code",
      "source": [
        "print(arr[7])"
      ],
      "metadata": {
        "id": "bV5YsJ0By5LX",
        "colab": {
          "base_uri": "https://localhost:8080/",
          "height": 165
        },
        "outputId": "0ea5930d-5b0b-46fd-eb5e-c4e6bda11ff3"
      },
      "execution_count": null,
      "outputs": [
        {
          "output_type": "error",
          "ename": "IndexError",
          "evalue": "ignored",
          "traceback": [
            "\u001b[0;31m---------------------------------------------------------------------------\u001b[0m",
            "\u001b[0;31mIndexError\u001b[0m                                Traceback (most recent call last)",
            "\u001b[0;32m<ipython-input-98-d89a7cf7fa80>\u001b[0m in \u001b[0;36m<module>\u001b[0;34m\u001b[0m\n\u001b[0;32m----> 1\u001b[0;31m \u001b[0mprint\u001b[0m\u001b[0;34m(\u001b[0m\u001b[0marr\u001b[0m\u001b[0;34m[\u001b[0m\u001b[0;36m7\u001b[0m\u001b[0;34m]\u001b[0m\u001b[0;34m)\u001b[0m\u001b[0;34m\u001b[0m\u001b[0;34m\u001b[0m\u001b[0m\n\u001b[0m",
            "\u001b[0;31mIndexError\u001b[0m: index 7 is out of bounds for axis 0 with size 4"
          ]
        }
      ]
    },
    {
      "cell_type": "markdown",
      "source": [
        "Why are we getting this error message?\n",
        "\n",
        "Well guessed! It is because position 7 does not exist in the heights_np array, it is totally out of the bounds defined by the array's shape and size. The array has 4 elements, the last element being in position 3."
      ],
      "metadata": {
        "id": "Ifg_JDrSy8U6"
      }
    },
    {
      "cell_type": "markdown",
      "source": [
        "Accessing Array elements from 2-D array"
      ],
      "metadata": {
        "id": "AxH4kuetkWb7"
      }
    },
    {
      "cell_type": "code",
      "source": [
        "import numpy as np\n",
        "arr = np.array([[1,2,3,4,5],\n",
        "                [6,7,8,9,10]])\n",
        "print('2nd element on 1st row: ', arr[0, 1])"
      ],
      "metadata": {
        "colab": {
          "base_uri": "https://localhost:8080/"
        },
        "id": "daNIgKSsK95I",
        "outputId": "725a688d-6492-4247-f7c4-cd1db048c554"
      },
      "execution_count": null,
      "outputs": [
        {
          "output_type": "stream",
          "name": "stdout",
          "text": [
            "2nd element on 1st row:  2\n"
          ]
        }
      ]
    },
    {
      "cell_type": "markdown",
      "source": [
        "## **Slicing arrays**\n",
        "\n",
        "Slicing in python means taking elements from one given index to another given index.\n",
        "\n",
        "- We pass slice instead of index like this: [start:end].\n",
        "- We can also define the step, like this: [start:end:step].\n",
        "- If we don't pass start its considered 0\n",
        "- If we don't pass end its considered length of array in that dimension\n",
        "- If we don't pass step its considered 1\n",
        "\n"
      ],
      "metadata": {
        "id": "FZrTdr0JOskb"
      }
    },
    {
      "cell_type": "code",
      "source": [
        "# Slicing elements from index 3 to index 7 in the following array:\n",
        "arr = np.array([22, 81, 23, 34, 56, 63, 71])\n",
        "print(arr[1:5])"
      ],
      "metadata": {
        "colab": {
          "base_uri": "https://localhost:8080/"
        },
        "id": "tc9yjfGRMATg",
        "outputId": "8a5fe95c-e9b2-4d51-fdb1-86630bfcf2c0"
      },
      "execution_count": null,
      "outputs": [
        {
          "output_type": "stream",
          "name": "stdout",
          "text": [
            "[81 23 34 56]\n"
          ]
        }
      ]
    },
    {
      "cell_type": "code",
      "source": [
        "# printing elements from index 4 to the end of the array using slicing\n",
        "arr = np.array([22, 81, 23, 34, 56, 63, 71])\n",
        "print(arr[4:])"
      ],
      "metadata": {
        "colab": {
          "base_uri": "https://localhost:8080/"
        },
        "id": "jhbWE2-QlYp8",
        "outputId": "58e41a96-08f8-4b0d-8614-5d2768bb8f0a"
      },
      "execution_count": null,
      "outputs": [
        {
          "output_type": "stream",
          "name": "stdout",
          "text": [
            "[56 63 71]\n"
          ]
        }
      ]
    },
    {
      "cell_type": "code",
      "source": [
        "# Slice elements from the beginning to index 5 (not included):\n",
        "arr = np.array([22, 81, 23, 34, 56, 63, 71])\n",
        "print(arr[:5])"
      ],
      "metadata": {
        "colab": {
          "base_uri": "https://localhost:8080/"
        },
        "id": "DGvKfs1LldP7",
        "outputId": "1a834c91-5996-4dbe-8eba-4c945954a4a7"
      },
      "execution_count": null,
      "outputs": [
        {
          "output_type": "stream",
          "name": "stdout",
          "text": [
            "[22 81 23 34 56]\n"
          ]
        }
      ]
    },
    {
      "cell_type": "code",
      "source": [
        "#Return every second element from index 1 to index 5 :\n",
        "arr = np.array([22, 81, 23, 34, 56, 63, 71])\n",
        "print(arr[1:5:2])\n",
        "\n",
        "# [81, 23, 34, 56, 63] start from 81 and print elements at a distance of 2 from starting position"
      ],
      "metadata": {
        "colab": {
          "base_uri": "https://localhost:8080/"
        },
        "id": "cZsUKr5Wlgje",
        "outputId": "a5d42ee0-d985-4096-b67d-3d8338312b07"
      },
      "execution_count": null,
      "outputs": [
        {
          "output_type": "stream",
          "name": "stdout",
          "text": [
            "[81 34]\n"
          ]
        }
      ]
    },
    {
      "cell_type": "code",
      "source": [
        "# Return every other element from the entire array:\n",
        "arr = np.array([1, 2, 3, 4, 5, 6, 7])\n",
        "print(arr[::2])"
      ],
      "metadata": {
        "colab": {
          "base_uri": "https://localhost:8080/"
        },
        "id": "Xfm42g2MlkM2",
        "outputId": "93ce726a-ee57-4a67-d6fb-a92db4a63444"
      },
      "execution_count": null,
      "outputs": [
        {
          "output_type": "stream",
          "name": "stdout",
          "text": [
            "[1 3 5 7]\n"
          ]
        }
      ]
    },
    {
      "cell_type": "code",
      "source": [
        "#Slicing 2-D Arrays\n",
        "# From the second element, slice elements from index 1 to index 4 (not included):\n",
        "\n",
        "arr = np.array([[1, 2, 3, 4, 5], [6, 7, 8, 9, 10]])\n",
        "print(arr[1, 1:4])"
      ],
      "metadata": {
        "colab": {
          "base_uri": "https://localhost:8080/"
        },
        "id": "_hi2jVmClpTd",
        "outputId": "a8a86657-253d-43b6-ce11-b918eb1e46c1"
      },
      "execution_count": null,
      "outputs": [
        {
          "output_type": "stream",
          "name": "stdout",
          "text": [
            "[7 8 9]\n"
          ]
        }
      ]
    },
    {
      "cell_type": "code",
      "source": [
        "#From both elements, return index 2:\n",
        "arr = np.array([[1, 2, 4, 5, 3], [9, 8, 7, 6, 1]])\n",
        "print(arr[0:2, 2])"
      ],
      "metadata": {
        "colab": {
          "base_uri": "https://localhost:8080/"
        },
        "id": "fcElIhE7lrmW",
        "outputId": "00b04bb6-140b-498c-ee65-4ce7b6ea98da"
      },
      "execution_count": null,
      "outputs": [
        {
          "output_type": "stream",
          "name": "stdout",
          "text": [
            "[4 7]\n"
          ]
        }
      ]
    },
    {
      "cell_type": "code",
      "source": [
        "#From both elements, slice index 1 to index 4 (not included), this will return a 2-D array:\n",
        "arr = np.array([[1, 2, 3, 4, 5], [6, 7, 8, 9, 10]])\n",
        "print(arr[0:2, 1:4])"
      ],
      "metadata": {
        "colab": {
          "base_uri": "https://localhost:8080/"
        },
        "id": "arO7Zky2lwSj",
        "outputId": "6f88dfde-934e-46aa-8db1-75d7c9e8f812"
      },
      "execution_count": null,
      "outputs": [
        {
          "output_type": "stream",
          "name": "stdout",
          "text": [
            "[[2 3 4]\n",
            " [7 8 9]]\n"
          ]
        }
      ]
    },
    {
      "cell_type": "markdown",
      "source": [
        "**Negative indexing**"
      ],
      "metadata": {
        "id": "OD-vB4ywtyIN"
      }
    },
    {
      "cell_type": "markdown",
      "source": [
        "When using negative indexing, it is important to consider the last position of the array to be -1:"
      ],
      "metadata": {
        "id": "jrWuTercaskq"
      }
    },
    {
      "cell_type": "code",
      "source": [
        "# Slice from the index 3 from the end to index 1 from the end:\n",
        "arr = np.array([1, 2, 3, 4, 5, 6, 7])\n",
        "print(arr[-3:-1])"
      ],
      "metadata": {
        "id": "W6Wys7_xl0_X",
        "colab": {
          "base_uri": "https://localhost:8080/"
        },
        "outputId": "78ab5562-c3bf-4402-c588-02939212eeec"
      },
      "execution_count": null,
      "outputs": [
        {
          "output_type": "stream",
          "name": "stdout",
          "text": [
            "[5 6]\n"
          ]
        }
      ]
    },
    {
      "cell_type": "code",
      "source": [
        "#printing the last two elements\n",
        "arr = np.array([0, 1, 2, 3, 6, 7, 8, 9])\n",
        "print(arr[-2:])   "
      ],
      "metadata": {
        "colab": {
          "base_uri": "https://localhost:8080/"
        },
        "id": "WFz_zbsCPBSZ",
        "outputId": "0b5e3ced-11c7-4817-ddf1-4a08c1c4aed3"
      },
      "execution_count": null,
      "outputs": [
        {
          "output_type": "stream",
          "name": "stdout",
          "text": [
            "[8 9]\n"
          ]
        }
      ]
    },
    {
      "cell_type": "code",
      "source": [
        "print(arr[-3:3:-1])"
      ],
      "metadata": {
        "colab": {
          "base_uri": "https://localhost:8080/"
        },
        "id": "m6vyymEFuaKq",
        "outputId": "2ba3d5a8-42f5-465c-ee6b-45cec9649beb"
      },
      "execution_count": null,
      "outputs": [
        {
          "output_type": "stream",
          "name": "stdout",
          "text": [
            "[7 6]\n"
          ]
        }
      ]
    },
    {
      "cell_type": "code",
      "source": [],
      "metadata": {
        "id": "u74cBjZhuiqN"
      },
      "execution_count": null,
      "outputs": []
    }
  ]
}