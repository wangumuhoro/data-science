{
 "cells": [
  {
   "cell_type": "markdown",
   "metadata": {
    "id": "TdcojNQ_lnc6"
   },
   "source": [
    "\n",
    "<h1><center><b> Variables, Data Types and Operators in Python </b></center></h1>"
   ]
  },
  {
   "cell_type": "markdown",
   "metadata": {
    "id": "ed6NUVAcjUvk"
   },
   "source": [
    "## **Comments**\n",
    "- Comments in Python are the lines in the code that are ignored by the interpreter during the execution of the program. "
   ]
  },
  {
   "cell_type": "markdown",
   "metadata": {
    "id": "yxY3TP6Mjpgf"
   },
   "source": [
    "There are three types of comments in Python – \n",
    "\n",
    "- Single line Comments\n",
    "- Multiline Comments\n",
    "- Docstring Comments"
   ]
  },
  {
   "cell_type": "markdown",
   "metadata": {
    "id": "rL_XRt3Gj2aU"
   },
   "source": [
    "## **Single-Line Comments**\n",
    "Python single-line comment starts with the hashtag symbol (#) with no white spaces and lasts till the end of the line."
   ]
  },
  {
   "cell_type": "code",
   "execution_count": null,
   "metadata": {
    "colab": {
     "base_uri": "https://localhost:8080/"
    },
    "id": "_VhjImq3i4oS",
    "outputId": "9c6dba47-499e-4cd4-813d-a62d859b7ade"
   },
   "outputs": [
    {
     "name": "stdout",
     "output_type": "stream",
     "text": [
      "SkillSpace.ai\n"
     ]
    }
   ],
   "source": [
    "# Print “SkillSpace.ai !” to console\n",
    "print(\"SkillSpace.ai\")"
   ]
  },
  {
   "cell_type": "markdown",
   "metadata": {
    "id": "1d-9C-27kMBG"
   },
   "source": [
    "## **Multi-Line Comments**\n",
    "- Using Multiple Hashtags (#)"
   ]
  },
  {
   "cell_type": "code",
   "execution_count": null,
   "metadata": {
    "colab": {
     "base_uri": "https://localhost:8080/"
    },
    "id": "v6wsIN0_kAlf",
    "outputId": "6ba5192a-a44b-4f1b-c137-65771e3b78d1"
   },
   "outputs": [
    {
     "name": "stdout",
     "output_type": "stream",
     "text": [
      "Multiline comments\n"
     ]
    }
   ],
   "source": [
    "# Python program to demonstrate the various ways through which we can implement multiline comments\n",
    "print(\"Multiline comments\")\n"
   ]
  },
  {
   "cell_type": "markdown",
   "metadata": {
    "id": "O_w7Bomxk047"
   },
   "source": [
    "- Using String Literals"
   ]
  },
  {
   "cell_type": "code",
   "execution_count": null,
   "metadata": {
    "colab": {
     "base_uri": "https://localhost:8080/"
    },
    "id": "Q7orfSq5kxHd",
    "outputId": "45ac2ff8-fb28-4550-dfca-951bd5157827"
   },
   "outputs": [
    {
     "name": "stdout",
     "output_type": "stream",
     "text": [
      "Multiline comments\n"
     ]
    }
   ],
   "source": [
    "\"\"\"Twitter Erupts In Joy As Virat Kohli \n",
    "Scores His Maiden T20I Century And \n",
    "Finally Gets His 71st International Century\"\"\"\n",
    "print(\"Multiline comments\")"
   ]
  },
  {
   "cell_type": "markdown",
   "metadata": {
    "id": "OJc08GN6lYOD"
   },
   "source": [
    "## **Operators in Python**"
   ]
  },
  {
   "cell_type": "markdown",
   "metadata": {
    "id": "c4VbNFe8meKy"
   },
   "source": [
    "<b>Arithmetic Operators"
   ]
  },
  {
   "cell_type": "code",
   "execution_count": null,
   "metadata": {
    "colab": {
     "base_uri": "https://localhost:8080/"
    },
    "id": "kUhMTWrvlG5p",
    "outputId": "05d827c1-cc2a-4fc2-bd5b-8a8850bbaa42"
   },
   "outputs": [
    {
     "name": "stdout",
     "output_type": "stream",
     "text": [
      "22\n",
      "8\n",
      "105\n",
      "2.142857142857143\n",
      "2\n",
      "1\n",
      "170859375\n"
     ]
    }
   ],
   "source": [
    "# Examples of Arithmetic Operator\n",
    "x = 15\n",
    "y = 7\n",
    "\n",
    "# Addition of x and y\n",
    "add = x + y\n",
    "\n",
    "# Subtraction of y from x\n",
    "sub = x - y\n",
    "\n",
    "# Multiplication of x and y\n",
    "mul = x * y\n",
    "\n",
    "# Division(float) of number\n",
    "div_float = x / y\n",
    "\n",
    "# Division(floor) of number\n",
    "div_floor = x // y\n",
    "\n",
    "# Modulo of two numbers\n",
    "mod = x % y\n",
    "\n",
    "# Power\n",
    "pow = x ** y\n",
    "\n",
    "# print results\n",
    "print(add)\n",
    "print(sub)\n",
    "print(mul)\n",
    "print(div_float)\n",
    "print(div_floor)\n",
    "print(mod)\n",
    "print(pow)\n"
   ]
  },
  {
   "cell_type": "markdown",
   "metadata": {
    "id": "vgeHqoULm_C7"
   },
   "source": [
    "<b><h1>Comparison Operators<b></h1>\n",
    "\n",
    "Comparison of Relational operators compares the values. It either returns True or False according to the condition."
   ]
  },
  {
   "cell_type": "code",
   "execution_count": null,
   "metadata": {
    "colab": {
     "base_uri": "https://localhost:8080/"
    },
    "id": "ti6xO_SCmpeT",
    "outputId": "12fb6e38-cd5f-4d9d-ceca-de6ad2c5046c"
   },
   "outputs": [
    {
     "name": "stdout",
     "output_type": "stream",
     "text": [
      "False\n",
      "True\n",
      "False\n",
      "True\n",
      "False\n",
      "True\n"
     ]
    }
   ],
   "source": [
    "# Examples of Relational Operators\n",
    "a = 15\n",
    "b = 37\n",
    "\n",
    "# a > b is False\n",
    "print(a > b)\n",
    "\n",
    "# a < b is True\n",
    "print(a < b)\n",
    "\n",
    "# a == b is False\n",
    "print(a == b)\n",
    "\n",
    "# a != b is True\n",
    "print(a != b)\n",
    "\n",
    "# a >= b is False\n",
    "print(a >= b)\n",
    "\n",
    "# a <= b is True\n",
    "print(a <= b)\n"
   ]
  },
  {
   "cell_type": "markdown",
   "metadata": {
    "id": "Wf5VXswTnODV"
   },
   "source": [
    "<h1><b>Logical Operators</b></h1>\n",
    "\n",
    "- Logical operators perform Logical AND, Logical OR, and Logical NOT operations. It is used to combine conditional statements."
   ]
  },
  {
   "cell_type": "code",
   "execution_count": null,
   "metadata": {
    "colab": {
     "base_uri": "https://localhost:8080/"
    },
    "id": "Pxs5PvoPnHAC",
    "outputId": "3585ae2e-bd8b-4e1b-eadd-a0def338a38c"
   },
   "outputs": [
    {
     "name": "stdout",
     "output_type": "stream",
     "text": [
      "False\n",
      "True\n",
      "False\n"
     ]
    }
   ],
   "source": [
    "# Examples of Logical Operator\n",
    "a = True\n",
    "b = False\n",
    "\n",
    "# Print a and b is False\n",
    "print(a and b)\n",
    "\n",
    "# Print a or b is True\n",
    "print(a or b)\n",
    "\n",
    "# Print not a is False\n",
    "print(not a)\n"
   ]
  },
  {
   "cell_type": "markdown",
   "metadata": {
    "id": "XImhGYaUoGC2"
   },
   "source": [
    "<h1><b>Python Variable </b></h1>\n",
    "\n",
    "Python Variables are containers which store values. "
   ]
  },
  {
   "cell_type": "code",
   "execution_count": null,
   "metadata": {
    "colab": {
     "base_uri": "https://localhost:8080/"
    },
    "id": "C1x3zjsKpAhR",
    "outputId": "05c3b425-879c-481d-939e-0be02ea67cb1"
   },
   "outputs": [
    {
     "name": "stdout",
     "output_type": "stream",
     "text": [
      "SkillSpace.ai\n"
     ]
    }
   ],
   "source": [
    "variable = \"SkillSpace.ai\"\n",
    "print(variable)\n"
   ]
  },
  {
   "cell_type": "code",
   "execution_count": null,
   "metadata": {
    "colab": {
     "base_uri": "https://localhost:8080/"
    },
    "id": "-y8W3cuAnUON",
    "outputId": "8969918f-b05a-4053-f377-8124ddd086b6"
   },
   "outputs": [
    {
     "name": "stdout",
     "output_type": "stream",
     "text": [
      "45\n",
      "199268.8\n",
      "Jonathan\n"
     ]
    }
   ],
   "source": [
    "# assignment of an integer\n",
    "age = 45\n",
    "\n",
    "# assignment of a floating point number\n",
    "net_worth = 199268.8\n",
    "\n",
    "# assignment of a string\n",
    "name = \"Jonathan\"\n",
    "\n",
    "print(age)\n",
    "print(net_worth)\n",
    "print(name)\n"
   ]
  },
  {
   "cell_type": "markdown",
   "metadata": {
    "id": "DUFOnOR5pMvD"
   },
   "source": [
    "- Assigning a single value to multiple variables"
   ]
  },
  {
   "cell_type": "code",
   "execution_count": null,
   "metadata": {
    "colab": {
     "base_uri": "https://localhost:8080/"
    },
    "id": "zLyZQei2pJ9m",
    "outputId": "78a4fa19-8b42-4e87-f728-5d961fcd25e0"
   },
   "outputs": [
    {
     "name": "stdout",
     "output_type": "stream",
     "text": [
      "10\n",
      "10\n",
      "10\n"
     ]
    }
   ],
   "source": [
    "a = b = c = 10\n",
    "\n",
    "print(a)\n",
    "print(b)\n",
    "print(c)\n"
   ]
  },
  {
   "cell_type": "markdown",
   "metadata": {
    "id": "CIZiFz7dpdDe"
   },
   "source": [
    "<h1><b>Input and Output in Python</b></h1>"
   ]
  },
  {
   "cell_type": "markdown",
   "metadata": {
    "id": "CaPZxV0np3C0"
   },
   "source": [
    "How to Take Input from User in Python?"
   ]
  },
  {
   "cell_type": "markdown",
   "metadata": {
    "id": "5fjbQqrZqiF8"
   },
   "source": [
    "<u><b> Integer input</b></u>"
   ]
  },
  {
   "cell_type": "code",
   "execution_count": null,
   "metadata": {
    "colab": {
     "base_uri": "https://localhost:8080/"
    },
    "id": "JQNBvBiWo3Mh",
    "outputId": "ee131268-7af2-4e49-d47d-e048da243d5b"
   },
   "outputs": [
    {
     "name": "stdout",
     "output_type": "stream",
     "text": [
      "3\n"
     ]
    }
   ],
   "source": [
    "x = int(input())"
   ]
  },
  {
   "cell_type": "markdown",
   "metadata": {
    "id": "AHCkbCwzqo9Y"
   },
   "source": [
    "<u><b>String input</u></b>"
   ]
  },
  {
   "cell_type": "code",
   "execution_count": null,
   "metadata": {
    "colab": {
     "base_uri": "https://localhost:8080/"
    },
    "id": "_ljIeNWiqlTq",
    "outputId": "c82ee7d2-614b-49de-ccac-60015504d538"
   },
   "outputs": [
    {
     "name": "stdout",
     "output_type": "stream",
     "text": [
      "DPhi\n"
     ]
    }
   ],
   "source": [
    "x = input()"
   ]
  },
  {
   "cell_type": "markdown",
   "metadata": {
    "id": "saG2oiAxrT0R"
   },
   "source": [
    "<b><u>Take Multiple Inputs in Python </u></b>"
   ]
  },
  {
   "cell_type": "code",
   "execution_count": null,
   "metadata": {
    "colab": {
     "base_uri": "https://localhost:8080/"
    },
    "id": "Ysi2vzMtqscE",
    "outputId": "cbe0cb16-19ba-4ab3-ce8e-5f201f60b14b"
   },
   "outputs": [
    {
     "name": "stdout",
     "output_type": "stream",
     "text": [
      "Taking multiple numbers as input : 1 9 5\n",
      "The Numbers are :  1 9 5\n"
     ]
    }
   ],
   "source": [
    "p, q, r = map(int, input(\"Taking multiple numbers as input from the user: \").split())\n",
    "print(\"The Numbers are as follows : \",end = \" \")\n",
    "print(p,q,r)\n"
   ]
  },
  {
   "cell_type": "markdown",
   "metadata": {
    "id": "lhtjlmG_sxxv"
   },
   "source": [
    "<h1><center><b> Data Structures and Data Types - 1 </b></center></h1>\n",
    "\n",
    "- Data structure is a data organization, management, and storage format that enables efficient access and modification."
   ]
  },
  {
   "cell_type": "markdown",
   "metadata": {
    "id": "qcZ_zfvXtkEN"
   },
   "source": [
    "- Text Type:\tstr\n",
    "- Numeric Types:\tint, float, complex\n",
    "- Sequence Types:\tlist, tuple, range\n",
    "- Mapping Type:\tdict\n",
    "- Set Types:\tset, frozenset\n",
    "- Boolean Type:\tbool\n",
    "- Binary Types:\tbytes, bytearray, memoryview\n",
    "- None Type:\tNoneType\n"
   ]
  },
  {
   "cell_type": "code",
   "execution_count": null,
   "metadata": {
    "colab": {
     "base_uri": "https://localhost:8080/"
    },
    "id": "yH9g14K7rPqg",
    "outputId": "8c86cbd5-4582-4155-a4a7-4d92a0e8dfae"
   },
   "outputs": [
    {
     "name": "stdout",
     "output_type": "stream",
     "text": [
      "Data Science <class 'str'>\n",
      "40 <class 'int'>\n",
      "80.7 <class 'float'>\n",
      "5j <class 'complex'>\n",
      "['maruti', 'toyota', 'mahindra', 'tata'] <class 'list'>\n",
      "('maruti', 'toyota', 'mahindra', 'tata') <class 'tuple'>\n",
      "range(0, 8) <class 'range'>\n",
      "{'name': 'Lennon', 'age': 45} <class 'dict'>\n",
      "{'maruti', 'toyota', 'mahindra', 'tata'} <class 'set'>\n",
      "True <class 'bool'>\n"
     ]
    }
   ],
   "source": [
    "from re import A\n",
    "a = \"Data Science\"\n",
    "\n",
    "print(a, type(a)) \n",
    "\n",
    "a = 40\n",
    "\n",
    "print(a,type(a))\n",
    "\n",
    "a = 80.7\t\n",
    "\n",
    "print(a,type(a))\n",
    "\n",
    "a = 5j\t\n",
    "\n",
    "print(a,type(a))\n",
    "\n",
    "a = [\"maruti\", \"toyota\", \"mahindra\",\"tata\"]\t\n",
    "\n",
    "print(a,type(a))\n",
    "\n",
    "a = (\"maruti\", \"toyota\", \"mahindra\", \"tata\")\t\n",
    "\n",
    "print(a,type(a))\n",
    "\n",
    "a = range(8)\t\n",
    "\n",
    "print(a,type(a))\n",
    "\n",
    "a = {\"name\" : \"Lennon\", \"age\" : 45}\t\t\n",
    "\n",
    "print(a,type(a))\n",
    "\n",
    "a = {\"maruti\", \"toyota\", \"mahindra\", \"tata\"}\t\n",
    "\n",
    "print(a,type(a))\n",
    "\n",
    "a = True\t\t\n",
    "\n",
    "print(a,type(a))"
   ]
  },
  {
   "cell_type": "markdown",
   "metadata": {
    "id": "RYyKf1UdvpQx"
   },
   "source": [
    "<h1><center><b> Strings </b></center></h1>"
   ]
  },
  {
   "cell_type": "markdown",
   "metadata": {
    "id": "zYK-_TbnvtVy"
   },
   "source": [
    "Strings are a sequence of characters that allow us to store multiple values in an organized and efficient way."
   ]
  },
  {
   "cell_type": "code",
   "execution_count": null,
   "metadata": {
    "colab": {
     "base_uri": "https://localhost:8080/"
    },
    "id": "gyTo1J6NuHDf",
    "outputId": "af39e9c8-74e0-41fc-9a07-5c25d5d155ab"
   },
   "outputs": [
    {
     "name": "stdout",
     "output_type": "stream",
     "text": [
      "Democratizing Data Science Learning\n"
     ]
    }
   ],
   "source": [
    "print(\"Democratizing Data Science Learning\")\n"
   ]
  },
  {
   "cell_type": "markdown",
   "metadata": {
    "id": "hlylXcSBzKum"
   },
   "source": [
    "<b>Iterate String</b>\n",
    "\n",
    "To iterate through a string in Python, “for…in” notation is used."
   ]
  },
  {
   "cell_type": "code",
   "execution_count": null,
   "metadata": {
    "colab": {
     "base_uri": "https://localhost:8080/"
    },
    "id": "SbrC1eqOzKNE",
    "outputId": "fe28d556-b936-4a27-ba88-83c099e1685d"
   },
   "outputs": [
    {
     "name": "stdout",
     "output_type": "stream",
     "text": [
      "D\n",
      "P\n",
      "h\n",
      "i\n"
     ]
    }
   ],
   "source": [
    "str = \"DPhi\"\n",
    "for c in str:\n",
    "  print(c)"
   ]
  },
  {
   "cell_type": "markdown",
   "metadata": {
    "id": "t4Shlm0PzbuM"
   },
   "source": [
    "<b>Built-in Function len()</b>\n",
    "\n",
    "In Python, the built-in len() function can be used to determine the length of an object. It can be used to compute the length of strings, lists, sets, and other countable objects.\n"
   ]
  },
  {
   "cell_type": "code",
   "execution_count": null,
   "metadata": {
    "colab": {
     "base_uri": "https://localhost:8080/"
    },
    "id": "DryzceC_zZTF",
    "outputId": "bb95cf06-4935-4f4a-8994-a35b66b7b35f"
   },
   "outputs": [
    {
     "name": "stdout",
     "output_type": "stream",
     "text": [
      "10\n",
      "3\n"
     ]
    }
   ],
   "source": [
    "length = len(\"SkillSpace\")\n",
    "print(length)\n",
    "\n",
    "brand = ['raymond', 'peter_england', 'allen_solly']\n",
    "print(len(brand))"
   ]
  },
  {
   "cell_type": "markdown",
   "metadata": {
    "id": "biUbc3SnziMb"
   },
   "source": [
    "<b>String Concatenation</b>\n",
    "\n",
    "To combine the content of two strings into a single string, Python provides the + operator. This process of joining strings is called concatenation.\n"
   ]
  },
  {
   "cell_type": "code",
   "execution_count": null,
   "metadata": {
    "colab": {
     "base_uri": "https://localhost:8080/"
    },
    "id": "CWNItvgmzoga",
    "outputId": "cac3012e-6a87-4251-c93b-b4fede0a52bc"
   },
   "outputs": [
    {
     "name": "stdout",
     "output_type": "stream",
     "text": [
      "Democratizing Data, Science Learning.\n"
     ]
    }
   ],
   "source": [
    "x = 'Democratizing Data, '\n",
    "y = 'Science Learning.'\n",
    "\n",
    "z = x + y\n",
    "\n",
    "print(z)"
   ]
  },
  {
   "cell_type": "markdown",
   "metadata": {
    "id": "W3Or_vCUz1nO"
   },
   "source": [
    "<b>String Method .lower()<b>\n",
    "\n",
    "The string method .lower() returns a string with all uppercase characters converted into lowercase."
   ]
  },
  {
   "cell_type": "code",
   "execution_count": null,
   "metadata": {
    "colab": {
     "base_uri": "https://localhost:8080/"
    },
    "id": "9spJiTNmzzQ-",
    "outputId": "399915b7-5e39-4fbc-c55c-2d068d252c9f"
   },
   "outputs": [
    {
     "name": "stdout",
     "output_type": "stream",
     "text": [
      "hearty welcome to absolute barbeque\n"
     ]
    }
   ],
   "source": [
    "greeting = \"Hearty Welcome to Absolute Barbeque\"\n",
    "\n",
    "print(greeting.lower())"
   ]
  },
  {
   "cell_type": "markdown",
   "metadata": {
    "id": "Px8j-LchwW_0"
   },
   "source": [
    "<b>Accessing String Elements</b>"
   ]
  },
  {
   "cell_type": "code",
   "execution_count": null,
   "metadata": {
    "colab": {
     "base_uri": "https://localhost:8080/"
    },
    "id": "7hdNnul-wFS6",
    "outputId": "21aca21b-c9a9-421d-ade8-e8935a3fd35f"
   },
   "outputs": [
    {
     "name": "stdout",
     "output_type": "stream",
     "text": [
      "Initial String: \n",
      "SkillSpace.ai\n",
      "\n",
      "First character of String is: \n",
      "S\n",
      "\n",
      "Last character of String is: \n",
      "i\n"
     ]
    }
   ],
   "source": [
    "String1 = \"SkillSpace.ai\"\n",
    "\n",
    "print(\"Initial String: \")\n",
    "print(String1)\n",
    "\n",
    "# Printing First character\n",
    "print(\"\\nFirst character of String is: \")\n",
    "print(String1[0])\n",
    "\n",
    "# Printing Last character\n",
    "print(\"\\nLast character of String is: \")\n",
    "print(String1[-1])\n"
   ]
  },
  {
   "cell_type": "markdown",
   "metadata": {
    "id": "Csh1smqiy5kO"
   },
   "source": [
    "<b>Indexing and Slicing Strings</b>\n",
    "\n",
    "Python strings can be indexed using the same notation as lists, since strings are lists of characters. A single character can be accessed with bracket notation ([index]), or a substring can be accessed using slicing ([start:end]).\n",
    "\n",
    "Indexing with negative numbers counts from the end of the string."
   ]
  },
  {
   "cell_type": "code",
   "execution_count": null,
   "metadata": {
    "colab": {
     "base_uri": "https://localhost:8080/",
     "height": 35
    },
    "id": "5uaJLqIhxknR",
    "outputId": "b02cf05d-a854-4295-ae64-dd5aab373fc5"
   },
   "outputs": [
    {
     "data": {
      "application/vnd.google.colaboratory.intrinsic+json": {
       "type": "string"
      },
      "text/plain": [
       "'low'"
      ]
     },
     "execution_count": 29,
     "metadata": {},
     "output_type": "execute_result"
    }
   ],
   "source": [
    "str = 'yellow'\n",
    "str[1]     # => 'e'\n",
    "str[-1]    # => 'w'\n",
    "str[4:6]   # => 'ow'\n",
    "str[:4]    # => 'yell'\n",
    "str[-3:]   # => 'low'"
   ]
  },
  {
   "cell_type": "markdown",
   "metadata": {
    "id": "MNT37QK-0Xdt"
   },
   "source": [
    "<b>String Method .strip()</b>\n",
    "\n",
    "The string method .strip() can be used to remove characters from the beginning and end of a string.\n",
    "\n",
    "A string argument can be passed to the method, specifying the set of characters to be stripped. With no arguments to the method, whitespace is removed."
   ]
  },
  {
   "cell_type": "code",
   "execution_count": null,
   "metadata": {
    "colab": {
     "base_uri": "https://localhost:8080/",
     "height": 35
    },
    "id": "0V1hTxaYydWe",
    "outputId": "5b6fb1cb-73bb-4649-dfd8-fb22f83fb0ae"
   },
   "outputs": [
    {
     "data": {
      "application/vnd.google.colaboratory.intrinsic+json": {
       "type": "string"
      },
      "text/plain": [
       "'lemons and limes'"
      ]
     },
     "execution_count": 34,
     "metadata": {},
     "output_type": "execute_result"
    }
   ],
   "source": [
    "text1 = '   apples and oranges   '\n",
    "text1.strip()       # => 'apples and oranges'\n",
    "\n",
    "text2 = '...+...lemons and limes...-...'\n",
    "\n",
    "# Here we strip just the \".\" characters\n",
    "text2.strip('.')    # => '+...lemons and limes...-'\n",
    "\n",
    "# Here we strip both \".\" and \"+\" characters\n",
    "text2.strip('.+')   # => 'lemons and limes...-'\n",
    "\n",
    "# Here we strip \".\", \"+\", and \"-\" characters\n",
    "text2.strip('.+-')  # => 'lemons and limes'"
   ]
  },
  {
   "cell_type": "markdown",
   "metadata": {
    "id": "cTeCg9ZO0nZq"
   },
   "source": [
    "**String Method .split()**\n",
    "\n",
    "The string method .split() splits a string into a list of items:\n",
    "\n",
    "If no argument is passed, the default behavior is to split on whitespace.\n",
    "If an argument is passed to the method, that value is used as the delimiter on which to split the string."
   ]
  },
  {
   "cell_type": "code",
   "execution_count": null,
   "metadata": {
    "colab": {
     "base_uri": "https://localhost:8080/"
    },
    "id": "Bs97pmsv05cY",
    "outputId": "0881cfb4-d2cb-4117-b215-75e61f45a425"
   },
   "outputs": [
    {
     "name": "stdout",
     "output_type": "stream",
     "text": [
      "['Bengaluru', 'IT', 'Hub']\n",
      "['Bengaluru IT Hub']\n"
     ]
    }
   ],
   "source": [
    "text = \"Bengaluru IT Hub\"\n",
    "\n",
    "print(text.split())     \n",
    "\n",
    "print(text.split('i'))  "
   ]
  },
  {
   "cell_type": "markdown",
   "metadata": {
    "id": "8zRXkmi40ufJ"
   },
   "source": [
    "**Python string method .find()**\n",
    "\n",
    "The Python string method .find() returns the index of the first occurrence of the string passed as the argument. It returns -1 if no occurrence is found.\n"
   ]
  },
  {
   "cell_type": "code",
   "execution_count": null,
   "metadata": {
    "colab": {
     "base_uri": "https://localhost:8080/"
    },
    "id": "lgtF07H61Akb",
    "outputId": "dcfc39c6-c299-4c5b-e2e1-9dae434fc14f"
   },
   "outputs": [
    {
     "name": "stdout",
     "output_type": "stream",
     "text": [
      "1\n"
     ]
    }
   ],
   "source": [
    "highest_peak = \"Mount Everest\"\n",
    "print(highest_peak.find(\"o\")) "
   ]
  },
  {
   "cell_type": "markdown",
   "metadata": {
    "id": "oTUTNcYy0yC2"
   },
   "source": [
    "**String .replace()**\n",
    "\n",
    "The .replace() method is used to replace the occurence of the first argument with the second argument within the string.\n",
    "\n",
    "The first argument is the old substring to be replaced, and the second argument is the new substring that will replace every occurence of the first one within the string."
   ]
  },
  {
   "cell_type": "code",
   "execution_count": null,
   "metadata": {
    "colab": {
     "base_uri": "https://localhost:8080/"
    },
    "id": "pTzcOYMm0gBf",
    "outputId": "f9e75f80-103c-4cbc-a56d-2871a4f17174"
   },
   "outputs": [
    {
     "name": "stdout",
     "output_type": "stream",
     "text": [
      "RaspbeRRy Pi\n"
     ]
    }
   ],
   "source": [
    "fruit = \"Raspberry Pi\"\n",
    "print(fruit.replace('r', 'R'))\n",
    "\n",
    "# StRawbeRRy"
   ]
  },
  {
   "cell_type": "markdown",
   "metadata": {
    "id": "2cQnkEi1cLl6"
   },
   "source": [
    "<h1><center><b>Data Structures and Data Types - 2</b></center></h1>"
   ]
  },
  {
   "cell_type": "markdown",
   "metadata": {
    "id": "B0y2aXIzdDIj"
   },
   "source": [
    "# What are Lists in Python? \n",
    "Python Lists are just like dynamically sized arrays, declared in other languages (vector in C++ and ArrayList in Java). In simple language, a list is a collection of things, enclosed in [ ] and separated by commas. "
   ]
  },
  {
   "cell_type": "code",
   "execution_count": null,
   "metadata": {
    "colab": {
     "base_uri": "https://localhost:8080/"
    },
    "id": "r_3XLKoT1IXU",
    "outputId": "915edf59-08f3-4440-ee01-31be606ae148"
   },
   "outputs": [
    {
     "name": "stdout",
     "output_type": "stream",
     "text": [
      "['Democratizing', 'Data-Science', 'Learning']\n"
     ]
    }
   ],
   "source": [
    "Var = [\"Democratizing\", \"Data-Science\", \"Learning\"]\n",
    "print(Var)"
   ]
  },
  {
   "cell_type": "markdown",
   "metadata": {
    "id": "1gMjpJKpepsp"
   },
   "source": [
    "## An overview of the various list methods"
   ]
  },
  {
   "cell_type": "markdown",
   "metadata": {
    "id": "JGojBvZ0eBZI"
   },
   "source": [
    "Accessing elements from the List"
   ]
  },
  {
   "cell_type": "code",
   "execution_count": null,
   "metadata": {
    "colab": {
     "base_uri": "https://localhost:8080/"
    },
    "id": "4UESyyiddVmH",
    "outputId": "99f9ae9a-1817-4681-a222-e5b98c373506"
   },
   "outputs": [
    {
     "name": "stdout",
     "output_type": "stream",
     "text": [
      "Accessing a element from the list\n",
      "Democratizing\n",
      "Learning\n"
     ]
    }
   ],
   "source": [
    "List = [\"Democratizing\", \"Data-Science\", \"Learning\"]\n",
    "\n",
    "# we need to access an element from the list using it's index number\n",
    "print(\"Accessing a element from the list\")\n",
    "print(List[0])\n",
    "print(List[2])\n"
   ]
  },
  {
   "cell_type": "markdown",
   "metadata": {
    "id": "EQwHjA1eeZT7"
   },
   "source": [
    "Accessing elements from a multi-dimensional list\n"
   ]
  },
  {
   "cell_type": "code",
   "execution_count": null,
   "metadata": {
    "colab": {
     "base_uri": "https://localhost:8080/"
    },
    "id": "OtRmRy8KeTsZ",
    "outputId": "fbe2f848-f936-444a-a995-a62ddd819da5"
   },
   "outputs": [
    {
     "name": "stdout",
     "output_type": "stream",
     "text": [
      "Accessing a element from a Multi-Dimensional list\n",
      "Space\n",
      "AI\n"
     ]
    }
   ],
   "source": [
    "List = [['Skill', 'Space'], ['AI']]\n",
    "  \n",
    "# accessing an element from the Multi-Dimensional List using index number\n",
    "print(\"Accessing a element from a Multi-Dimensional list\")\n",
    "print(List[0][1])\n",
    "print(List[1][0])"
   ]
  },
  {
   "cell_type": "markdown",
   "metadata": {
    "id": "DOCADKpGe81Y"
   },
   "source": [
    "Append in Python Lists"
   ]
  },
  {
   "cell_type": "code",
   "execution_count": null,
   "metadata": {
    "colab": {
     "base_uri": "https://localhost:8080/"
    },
    "id": "9-lThaUIekZA",
    "outputId": "745102ac-d091-41e6-d1ae-b929b83ba4c0"
   },
   "outputs": [
    {
     "name": "stdout",
     "output_type": "stream",
     "text": [
      "['Democratizing', 'Data-Science', 'Education']\n"
     ]
    }
   ],
   "source": [
    "my_list = ['Democratizing', 'Data-Science']\n",
    "my_list.append('Education')\n",
    "print(my_list)\n"
   ]
  },
  {
   "cell_type": "markdown",
   "metadata": {
    "id": "LP9Po2eifZV5"
   },
   "source": [
    "<b>insert() method</b>\n",
    "\n",
    "- append() method only works for the addition of elements at the end of the List, for the addition of elements at the desired position, insert() method is used."
   ]
  },
  {
   "cell_type": "code",
   "execution_count": null,
   "metadata": {
    "colab": {
     "base_uri": "https://localhost:8080/"
    },
    "id": "Fk0XB5TmfOk9",
    "outputId": "6e186ffd-d60b-4a89-f1d3-d1d3db1be5ac"
   },
   "outputs": [
    {
     "name": "stdout",
     "output_type": "stream",
     "text": [
      "Initial List: \n",
      "[1, 9, 3, 2]\n",
      "\n",
      "List after performing Insert Operation: \n",
      "['DPhi', 1, 42, 9, 3, 2]\n"
     ]
    }
   ],
   "source": [
    "List = [1,9,3,2]\n",
    "print(\"Initial List: \")\n",
    "print(List)\n",
    "\n",
    "# Addition of Element at specific Position (using Insert Method)\n",
    "List.insert(1, 42)\n",
    "List.insert(0, 'DPhi')\n",
    "print(\"\\nList after performing Insert Operation: \")\n",
    "print(List)\n"
   ]
  },
  {
   "cell_type": "markdown",
   "metadata": {
    "id": "uKGyqUYNgAyO"
   },
   "source": [
    "<b>Reversing a List</b>\n",
    "\n",
    "A list can be reversed by using the reverse() method in Python."
   ]
  },
  {
   "cell_type": "code",
   "execution_count": null,
   "metadata": {
    "colab": {
     "base_uri": "https://localhost:8080/"
    },
    "id": "Fd5wGnOKftjk",
    "outputId": "e68f0e87-f755-40cb-ac7c-5046a5c22b64"
   },
   "outputs": [
    {
     "name": "stdout",
     "output_type": "stream",
     "text": [
      "['Science', 'Data', 48, 6, 5, 7, 9]\n"
     ]
    }
   ],
   "source": [
    "# Reversing a list\n",
    "mylist = [9,7,5,6,48, 'Data', 'Science']\n",
    "mylist.reverse()\n",
    "print(mylist)\n"
   ]
  },
  {
   "cell_type": "markdown",
   "metadata": {
    "id": "rlKqz97zgt3u"
   },
   "source": [
    "<b>Using remove() method</b>\n",
    "\n",
    "- Elements can be removed from the List by using the built-in remove() function but it throws an Error arises if the element is not present in the list. \n",
    "- Remove() method only removes one element at a time.The remove() method removes the specified item."
   ]
  },
  {
   "cell_type": "code",
   "execution_count": null,
   "metadata": {
    "colab": {
     "base_uri": "https://localhost:8080/"
    },
    "id": "NVEGPJZRgNcq",
    "outputId": "9abb0580-8e00-4fa4-c0f4-8b5cbea25b48"
   },
   "outputs": [
    {
     "name": "stdout",
     "output_type": "stream",
     "text": [
      "\n",
      "List before deletion: \n",
      "[1, 2, 3, 4, 5, 6, 7, 'DPhi', 8, 9, 10, 11, 12]\n",
      "\n",
      "List after Removing a range of elements: \n",
      "[1, 2, 3, 4, 5, 6, 7, 8, 9, 10, 11, 12]\n"
     ]
    }
   ],
   "source": [
    "List = [1, 2, 3, 4, 5, 6,\t7,\"DPhi\", 8, 9, 10, 11, 12]\n",
    "print(\"\\nList before deletion: \")\n",
    "print(List)\n",
    "\n",
    "List.remove(\"DPhi\")\n",
    "print(\"\\nList after Removing a range of elements: \")\n",
    "print(List)\n"
   ]
  },
  {
   "cell_type": "markdown",
   "metadata": {
    "id": "Mo7AUeiClus1"
   },
   "source": [
    "<b> Slicing in Python </b>"
   ]
  },
  {
   "cell_type": "code",
   "execution_count": null,
   "metadata": {
    "colab": {
     "base_uri": "https://localhost:8080/"
    },
    "id": "wMrPyQCNhO77",
    "outputId": "64f6f3fc-024d-4c0b-f1ed-06c6b477513c"
   },
   "outputs": [
    {
     "name": "stdout",
     "output_type": "stream",
     "text": [
      "Initial List : \n",
      "['M', 'A', 'C', 'H', 'I', 'N', 'E', 'L', 'E', 'A', 'R', 'N', 'I', 'N', 'G']\n",
      "\n",
      "Slicing elements in a range 3-8: \n",
      "['H', 'I', 'N', 'E', 'L']\n",
      "\n",
      "Elements sliced from 5th element till the end: \n",
      "['N', 'E', 'L', 'E', 'A', 'R', 'N', 'I', 'N', 'G']\n",
      "\n",
      "Printing all elements using slice operation: \n",
      "['M', 'A', 'C', 'H', 'I', 'N', 'E', 'L', 'E', 'A', 'R', 'N', 'I', 'N', 'G']\n",
      "\n",
      "Elements sliced till 6th element from last: \n",
      "['M', 'A', 'C', 'H', 'I', 'N', 'E', 'L', 'E']\n",
      "\n",
      "Elements sliced from index -6 to -1\n",
      "['A', 'R', 'N', 'I', 'N']\n",
      "\n",
      "Printing List in reverse: \n",
      "['G', 'N', 'I', 'N', 'R', 'A', 'E', 'L', 'E', 'N', 'I', 'H', 'C', 'A', 'M']\n"
     ]
    }
   ],
   "source": [
    "List = ['M','A','C','H','I','N','E','L','E','A','R','N','I','N','G']\n",
    "print(\"Initial List : \")\n",
    "print(List)\n",
    "\n",
    "# Print elements of a range using Slice operation\n",
    "Sliced_List = List[3:8]\n",
    "print(\"\\nSlicing elements in a range 3-8: \")\n",
    "print(Sliced_List)\n",
    "\n",
    "# Print elements from a pre-defined point to end\n",
    "Sliced_List = List[5:]\n",
    "print(\"\\nElements sliced from 5th \"\n",
    "\t\"element till the end: \")\n",
    "print(Sliced_List)\n",
    "\n",
    "# Printing elements from beginning till end\n",
    "Sliced_List = List[:]\n",
    "print(\"\\nPrinting all elements using slice operation: \")\n",
    "print(Sliced_List)\n",
    "\n",
    "# Print elements from beginning to a pre-defined point using Slice\n",
    "Sliced_List = List[:-6]\n",
    "print(\"\\nElements sliced till 6th element from last: \")\n",
    "print(Sliced_List)\n",
    "\n",
    "# Print elements of a range using negative index List slicing\n",
    "Sliced_List = List[-6:-1]\n",
    "print(\"\\nElements sliced from index -6 to -1\")\n",
    "print(Sliced_List)\n",
    "\n",
    "# Printing elements in reverse using Slice operation\n",
    "Sliced_List = List[::-1]\n",
    "print(\"\\nPrinting List in reverse: \")\n",
    "print(Sliced_List)\n"
   ]
  },
  {
   "cell_type": "markdown",
   "metadata": {
    "id": "ztNGD9N6jVnI"
   },
   "source": [
    "<b>count() method</b>\n",
    "- Python List count() method returns the count of how many times a given object occurs in a List."
   ]
  },
  {
   "cell_type": "code",
   "execution_count": null,
   "metadata": {
    "colab": {
     "base_uri": "https://localhost:8080/"
    },
    "id": "7giYd_IJi_H_",
    "outputId": "2082f594-0242-4c90-c7da-1eb26b398a6b"
   },
   "outputs": [
    {
     "name": "stdout",
     "output_type": "stream",
     "text": [
      "3\n"
     ]
    }
   ],
   "source": [
    "list2 = ['a', 'a', 'a', 'b', 'b', 'a', 'c', 'b']\n",
    "print(list2.count('b'))\n"
   ]
  },
  {
   "cell_type": "markdown",
   "metadata": {
    "id": "fKbp4vpZj77X"
   },
   "source": [
    "<b>sort() </b>\n",
    "- This function sorts the list in increasing order."
   ]
  },
  {
   "cell_type": "code",
   "execution_count": null,
   "metadata": {
    "colab": {
     "base_uri": "https://localhost:8080/"
    },
    "id": "WYBzd78FjdhS",
    "outputId": "1435621a-b82c-45bb-8175-ab5fe046fcb3"
   },
   "outputs": [
    {
     "name": "stdout",
     "output_type": "stream",
     "text": [
      "\n",
      "Printing the list in ascending order\n",
      "[1, 2, 3, 3, 5, 8]\n",
      "\n",
      "Printing the list in descending order\n",
      "[8, 5, 3, 3, 2, 1]\n"
     ]
    }
   ],
   "source": [
    "lis = [2, 1, 3, 5, 3, 8]\n",
    "  \n",
    "lis.sort()\n",
    "print(\"\\nPrinting the list in ascending order\")\n",
    "print(lis)\n",
    "\n",
    "lis.sort(reverse=True)\n",
    "print(\"\\nPrinting the list in descending order\")\n",
    "print(lis)"
   ]
  },
  {
   "cell_type": "markdown",
   "metadata": {
    "id": "bs6RbPWAl5QN"
   },
   "source": [
    "# <b><center> Tuples in Python </center></b> \n",
    "- It is a collection of objects separated by commas. In some ways, a tuple is similar to a list in terms of indexing, nested objects, and repetition but a tuple is immutable, unlike lists which are mutable."
   ]
  },
  {
   "cell_type": "code",
   "execution_count": null,
   "metadata": {
    "colab": {
     "base_uri": "https://localhost:8080/"
    },
    "id": "Af1_M-n0kX8A",
    "outputId": "71c0094c-48af-4f61-d905-ab64674a6f5a"
   },
   "outputs": [
    {
     "name": "stdout",
     "output_type": "stream",
     "text": [
      "('Democratizing', 'Data-Science', 'Learning')\n"
     ]
    }
   ],
   "source": [
    "var = (\"Democratizing\", \"Data-Science\", \"Learning\")\n",
    "print(var)"
   ]
  },
  {
   "cell_type": "markdown",
   "metadata": {
    "id": "ZACQhUaBmbdL"
   },
   "source": [
    "Accessing Values in Tuples in Python\n",
    "\n",
    "- Method 1: Using Positive Index\n",
    "Using square brackets we can get the values from tuples in Python.\n"
   ]
  },
  {
   "cell_type": "code",
   "execution_count": null,
   "metadata": {
    "colab": {
     "base_uri": "https://localhost:8080/"
    },
    "id": "I1Kb-5mImklV",
    "outputId": "d522538d-48f5-447c-90f7-62d81529d886"
   },
   "outputs": [
    {
     "name": "stdout",
     "output_type": "stream",
     "text": [
      "Value in Var[0] =  Democratizing\n",
      "Value in Var[1] =  Data-Science\n",
      "Value in Var[2] =  Learning\n"
     ]
    }
   ],
   "source": [
    "var = (\"Democratizing\", \"Data-Science\", \"Learning\")\n",
    "  \n",
    "print(\"Value in Var[0] = \", var[0])\n",
    "print(\"Value in Var[1] = \", var[1])\n",
    "print(\"Value in Var[2] = \", var[2])"
   ]
  },
  {
   "cell_type": "markdown",
   "metadata": {
    "id": "ecJa5qOrmhTG"
   },
   "source": [
    "\n",
    "Method 2: Using Negative Index.\n",
    "In the above methods, we use the positive index to access the value in Python, and here we will use -ve index within [].\n"
   ]
  },
  {
   "cell_type": "code",
   "execution_count": null,
   "metadata": {
    "colab": {
     "base_uri": "https://localhost:8080/"
    },
    "id": "lAKQSo9YmQo8",
    "outputId": "ebc7c13b-97dc-4698-d87d-50c2c1d38139"
   },
   "outputs": [
    {
     "name": "stdout",
     "output_type": "stream",
     "text": [
      "Value in Var[-3] =  Democratizing\n",
      "Value in Var[-2] =  Data-Science\n",
      "Value in Var[-1] =  Learning\n"
     ]
    }
   ],
   "source": [
    "var = (\"Democratizing\", \"Data-Science\", \"Learning\")\n",
    "  \n",
    "print(\"Value in Var[-3] = \", var[-3])\n",
    "print(\"Value in Var[-2] = \", var[-2])\n",
    "print(\"Value in Var[-1] = \", var[-1])"
   ]
  },
  {
   "cell_type": "markdown",
   "metadata": {
    "id": "xFiR4bcZnY2m"
   },
   "source": [
    "Concatenation of Tuples in Python\n",
    "- To concatenate the Python tuple we will use plus operators(+)."
   ]
  },
  {
   "cell_type": "code",
   "execution_count": null,
   "metadata": {
    "colab": {
     "base_uri": "https://localhost:8080/"
    },
    "id": "lnCqc5Pdmx01",
    "outputId": "a1f37e9e-ccba-4bff-92bb-2aabbf1e5e56"
   },
   "outputs": [
    {
     "name": "stdout",
     "output_type": "stream",
     "text": [
      "(1, 9, 8, 4, 'Data', 'Science')\n",
      "((2, 3, 6, 4), ('Data', 'Science'))\n"
     ]
    }
   ],
   "source": [
    "# Code for concatenating 2 tuples\n",
    "  \n",
    "tuple1 = (1, 9, 8, 4)\n",
    "tuple2 = ('Data', 'Science')\n",
    "  \n",
    "# Concatenating above two\n",
    "print(tuple1 + tuple2)\n",
    "\n",
    "#Nesting of Tuples in Python Code for creating nested tuples\n",
    "  \n",
    "tuple1 = (2, 3, 6, 4)\n",
    "tuple2 = ('Data', 'Science')\n",
    "tuple3 = (tuple1, tuple2)\n",
    "print(tuple3)"
   ]
  },
  {
   "cell_type": "markdown",
   "metadata": {
    "id": "CgVkl0X9n-B0"
   },
   "source": [
    "<b>Slicing Tuples in Python</b>\n"
   ]
  },
  {
   "cell_type": "code",
   "execution_count": null,
   "metadata": {
    "colab": {
     "base_uri": "https://localhost:8080/"
    },
    "id": "qFGrCz2xoEL8",
    "outputId": "20a4bacf-d2b3-47e5-e55a-1ada72813ba3"
   },
   "outputs": [
    {
     "name": "stdout",
     "output_type": "stream",
     "text": [
      "(8, 5)\n",
      "(5, 8, 3, 9)\n",
      "(3, 8, 5)\n"
     ]
    }
   ],
   "source": [
    "# code to test slicing\n",
    "  \n",
    "tuple_slice = (9 ,3, 8, 5)\n",
    "\n",
    "print(tuple_slice[2:4])\n",
    "print(tuple_slice[::-1])\n",
    "print(tuple_slice[1:])"
   ]
  },
  {
   "cell_type": "markdown",
   "metadata": {
    "id": "y6E9dKC-oPBq"
   },
   "source": [
    "<b>Finding Length of a Tuple</b>"
   ]
  },
  {
   "cell_type": "code",
   "execution_count": null,
   "metadata": {
    "colab": {
     "base_uri": "https://localhost:8080/"
    },
    "id": "iBWDKWWJoSFq",
    "outputId": "f9adb49b-16f2-4986-f55b-a2c4709ca4e8"
   },
   "outputs": [
    {
     "name": "stdout",
     "output_type": "stream",
     "text": [
      "2\n"
     ]
    }
   ],
   "source": [
    "# Code for printing the length of a tuple\n",
    "  \n",
    "tuple_len = ('Data', 'Science')\n",
    "print(len(tuple_len))"
   ]
  },
  {
   "cell_type": "markdown",
   "metadata": {
    "id": "J7ifNOe1ocLm"
   },
   "source": [
    "<b> Converting list to a Tuple</b>"
   ]
  },
  {
   "cell_type": "code",
   "execution_count": null,
   "metadata": {
    "colab": {
     "base_uri": "https://localhost:8080/"
    },
    "id": "pLE6j52PoV3c",
    "outputId": "1b6a5884-830b-4932-f813-9322592d7d73"
   },
   "outputs": [
    {
     "name": "stdout",
     "output_type": "stream",
     "text": [
      "(0, 1, 2)\n",
      "('S', 'Q', 'L')\n"
     ]
    }
   ],
   "source": [
    "# Code for converting a list and a string into a tuple\n",
    "  \n",
    "dphi = [0, 1, 2]\n",
    "print(tuple(dphi))\n",
    "print(tuple('SQL')) # string 'python'"
   ]
  },
  {
   "cell_type": "markdown",
   "metadata": {
    "id": "Yp57R9O-oxFJ"
   },
   "source": [
    "<b><h1><center>Dictionary in Python</b></center></h1>\n",
    "\n",
    "- It is a collection of keys values, used to store data values like a map, which, unlike other data types which hold only a single value as an element.\n",
    "\n",
    "- A dictionary can be created by placing a sequence of elements within curly {} braces, separated by ‘comma’. Dictionary holds pairs of values, one being the Key and the other corresponding pair element being its Key:value. Values in a dictionary can be of any data type and can be duplicated, whereas keys can’t be repeated and must be immutable. "
   ]
  },
  {
   "cell_type": "code",
   "execution_count": null,
   "metadata": {
    "colab": {
     "base_uri": "https://localhost:8080/"
    },
    "id": "pYiYImWWofrQ",
    "outputId": "98816392-96bc-45ea-929c-f260ad37e647"
   },
   "outputs": [
    {
     "name": "stdout",
     "output_type": "stream",
     "text": [
      "{1: 'Data', 2: 'is', 3: 'the', 4: 'new', 5: 'oil'}\n"
     ]
    }
   ],
   "source": [
    "Dict = {1: 'Data', 2: 'is', 3: 'the', 4: 'new', 5:'oil'}\n",
    "print(Dict)\n"
   ]
  },
  {
   "cell_type": "markdown",
   "metadata": {
    "id": "gNlVpjlPphW6"
   },
   "source": [
    "Dictionary containing keys of Integer and Mixed Types"
   ]
  },
  {
   "cell_type": "code",
   "execution_count": null,
   "metadata": {
    "colab": {
     "base_uri": "https://localhost:8080/"
    },
    "id": "B9UTs8DypOGF",
    "outputId": "d516fcf6-251b-407b-d521-158359225bcd"
   },
   "outputs": [
    {
     "name": "stdout",
     "output_type": "stream",
     "text": [
      "\n",
      "Dictionary with the use of Integer Keys: \n",
      "{1: 'Democratizing', 2: 'Data-Science', 3: 'Learning'}\n",
      "\n",
      "Dictionary with the use of Mixed Keys: \n",
      "{'Name': 'APhi', 1: [1, 2, 3, 4]}\n"
     ]
    }
   ],
   "source": [
    "# Creating a Dictionary with Integer Keys\n",
    "Dict = {1: 'Democratizing', 2: 'Data-Science', 3: 'Learning'}\n",
    "print(\"\\nDictionary with the use of Integer Keys: \")\n",
    "print(Dict)\n",
    "\n",
    "# Creating a Dictionary with Mixed keys\n",
    "Dict = {'Name': 'DPhi', 1: [1, 2, 3, 4]}\n",
    "print(\"\\nDictionary with the use of Mixed Keys: \")\n",
    "print(Dict)\n"
   ]
  },
  {
   "cell_type": "markdown",
   "metadata": {
    "id": "KX8hP_tRqBjb"
   },
   "source": [
    "Adding elements to a Dictionary\n",
    "\n",
    "- Addition of elements can be done in multiple ways. One value at a time can be added to a Dictionary by defining value along with the key e.g. Dict[Key] = ‘Value’. Updating an existing value in a Dictionary can be done by using the built-in update() method. \n",
    "\n",
    "Note- While adding a value, if the key-value already exists, the value gets updated otherwise a new Key with the value is added to the Dictionary."
   ]
  },
  {
   "cell_type": "code",
   "execution_count": null,
   "metadata": {
    "colab": {
     "base_uri": "https://localhost:8080/"
    },
    "id": "Ks9fCpCIplgX",
    "outputId": "49b75a2a-e107-432a-b774-9c1b06a82bb0"
   },
   "outputs": [
    {
     "name": "stdout",
     "output_type": "stream",
     "text": [
      "Empty Dictionary: \n",
      "{}\n",
      "\n",
      "Dictionary after adding 3 elements: \n",
      "{0: 'Skill', 2: 'Space', 3: 1}\n",
      "\n",
      "Dictionary after adding 3 elements: \n",
      "{0: 'Skill', 2: 'Space', 3: 1, 'Value_set': (2, 3, 4)}\n",
      "\n",
      "Updated key value: \n",
      "{0: 'Skill', 2: 'Grand Welcome', 3: 1, 'Value_set': (2, 3, 4)}\n",
      "\n",
      "Adding a Nested Key: \n",
      "{0: 'Skill', 2: 'Grand Welcome', 3: 1, 'Value_set': (2, 3, 4), 5: {'Nested': {'1': 'Life', '2': 'Geeks'}}}\n"
     ]
    }
   ],
   "source": [
    "# Creating an empty Dictionary\n",
    "Dict = {}\n",
    "print(\"Empty Dictionary: \")\n",
    "print(Dict)\n",
    "\n",
    "# Adding elements one at a time\n",
    "Dict[0] = 'Skill'\n",
    "Dict[2] = 'Space'\n",
    "Dict[3] = 1\n",
    "print(\"\\nDictionary after adding 3 elements: \")\n",
    "print(Dict)\n",
    "\n",
    "# Adding set of values to a single Key\n",
    "Dict['Value_set'] = 2, 3, 4\n",
    "print(\"\\nDictionary after adding 3 elements: \")\n",
    "print(Dict)\n",
    "\n",
    "# Updating existing Key's Value\n",
    "Dict[2] = 'Grand Welcome'\n",
    "print(\"\\nUpdated key value: \")\n",
    "print(Dict)\n",
    "\n",
    "# Adding Nested Key value to Dictionary\n",
    "Dict[5] = {'Nested': {'1': 'Life', '2': 'Geeks'}}\n",
    "print(\"\\nAdding a Nested Key: \")\n",
    "print(Dict)\n"
   ]
  },
  {
   "cell_type": "markdown",
   "metadata": {
    "id": "z08_I0VcqMtG"
   },
   "source": [
    "Accessing elements of a Dictionary\n",
    "In order to access the items of a dictionary refer to its key name. Key can be used inside square brackets. \n"
   ]
  },
  {
   "cell_type": "code",
   "execution_count": null,
   "metadata": {
    "colab": {
     "base_uri": "https://localhost:8080/"
    },
    "id": "RyEWaAkAqJFT",
    "outputId": "c9de8063-1c21-4d45-ec49-b16226d5e30d"
   },
   "outputs": [
    {
     "name": "stdout",
     "output_type": "stream",
     "text": [
      "Accessing a element using key:\n",
      "Science\n",
      "Accessing a element using key:\n",
      "DPhi\n"
     ]
    }
   ],
   "source": [
    "# Creating a Dictionary\n",
    "Dict = {1: 'DPhi', 'Data': 'Science', 3: 'Learning'}\n",
    "  \n",
    "# accessing a element using key\n",
    "print(\"Accessing a element using key:\")\n",
    "print(Dict['Data'])\n",
    "  \n",
    "# accessing a element using key\n",
    "print(\"Accessing a element using key:\")\n",
    "print(Dict[1])"
   ]
  },
  {
   "cell_type": "markdown",
   "metadata": {
    "id": "pHFdxTtiqajT"
   },
   "source": [
    "A collection of popular Dictionary methods that we use in our daily lives"
   ]
  },
  {
   "cell_type": "code",
   "execution_count": null,
   "metadata": {
    "colab": {
     "base_uri": "https://localhost:8080/"
    },
    "id": "ADMc4xE2qRrl",
    "outputId": "7776aede-bd73-4200-816f-94c698655590"
   },
   "outputs": [
    {
     "name": "stdout",
     "output_type": "stream",
     "text": [
      "{1: 'Python', 2: 'C++', 3: 'Ruby', 4: 'R'}\n",
      "{}\n",
      "Ruby\n",
      "dict_items([(1, 'Python'), (2, 'C++'), (3, 'Ruby'), (4, 'R')])\n",
      "dict_keys([1, 2, 3, 4])\n",
      "{1: 'Python', 3: 'Ruby', 4: 'R'}\n",
      "{1: 'Python', 3: 'Ruby'}\n",
      "{1: 'Python', 3: 'Ruby', 4: 'Kotlin'}\n",
      "dict_values(['Python', 'Ruby', 'Kotlin'])\n"
     ]
    }
   ],
   "source": [
    "# demo for all dictionary methods\n",
    "dictionary = {1: \"Python\", 2: \"C++\", 3: \"Ruby\", 4: \"R\"}\n",
    "\n",
    "# copy() method\n",
    "dict2 = dictionary.copy()\n",
    "print(dict2)\n",
    "\n",
    "# clear() method\n",
    "dictionary.clear()\n",
    "print(dictionary)\n",
    "\n",
    "# get() method\n",
    "print(dict2.get(3))\n",
    "\n",
    "# items() method\n",
    "print(dict2.items())\n",
    "\n",
    "# keys() method\n",
    "print(dict2.keys())\n",
    "\n",
    "# pop() method\n",
    "dict2.pop(2)\n",
    "print(dict2)\n",
    "\n",
    "# popitem() method\n",
    "dict2.popitem()\n",
    "print(dict2)\n",
    "\n",
    "# update() method\n",
    "dict2.update({4: \"Kotlin\"})\n",
    "print(dict2)\n",
    "\n",
    "# values() method\n",
    "print(dict2.values())"
   ]
  },
  {
   "cell_type": "code",
   "execution_count": null,
   "metadata": {
    "id": "H3BgoWDrqg4W"
   },
   "outputs": [],
   "source": []
  }
 ],
 "metadata": {
  "colab": {
   "collapsed_sections": [
    "1gMjpJKpepsp"
   ],
   "provenance": []
  },
  "kernelspec": {
   "display_name": "Python 3 (ipykernel)",
   "language": "python",
   "name": "python3"
  },
  "language_info": {
   "codemirror_mode": {
    "name": "ipython",
    "version": 3
   },
   "file_extension": ".py",
   "mimetype": "text/x-python",
   "name": "python",
   "nbconvert_exporter": "python",
   "pygments_lexer": "ipython3",
   "version": "3.9.7"
  }
 },
 "nbformat": 4,
 "nbformat_minor": 1
}
