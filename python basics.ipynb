{
 "cells": [
  {
   "cell_type": "code",
   "execution_count": 1,
   "id": "efa53eaf",
   "metadata": {},
   "outputs": [
    {
     "name": "stdout",
     "output_type": "stream",
     "text": [
      "hallo Macleen\n"
     ]
    }
   ],
   "source": [
    "print (\"hallo Macleen\")"
   ]
  },
  {
   "cell_type": "code",
   "execution_count": 2,
   "id": "a05f30fe",
   "metadata": {},
   "outputs": [],
   "source": [
    "#learning vqriables- a variable is a storange container of data\n",
    "x = 5\n",
    "y =\"Macleen\""
   ]
  },
  {
   "cell_type": "code",
   "execution_count": 3,
   "id": "8ef06e71",
   "metadata": {},
   "outputs": [
    {
     "name": "stdout",
     "output_type": "stream",
     "text": [
      "Macleen\n"
     ]
    }
   ],
   "source": [
    "print (y)"
   ]
  },
  {
   "cell_type": "code",
   "execution_count": null,
   "id": "175e9be2",
   "metadata": {},
   "outputs": [],
   "source": [
    "operators"
   ]
  },
  {
   "cell_type": "code",
   "execution_count": 4,
   "id": "c0d41ca3",
   "metadata": {},
   "outputs": [],
   "source": [
    "z = 10"
   ]
  },
  {
   "cell_type": "code",
   "execution_count": 5,
   "id": "733150b9",
   "metadata": {},
   "outputs": [
    {
     "name": "stdout",
     "output_type": "stream",
     "text": [
      "15\n"
     ]
    }
   ],
   "source": [
    "ans= x + z\n",
    "print (ans)"
   ]
  },
  {
   "cell_type": "code",
   "execution_count": 6,
   "id": "53496adb",
   "metadata": {},
   "outputs": [
    {
     "name": "stdout",
     "output_type": "stream",
     "text": [
      "50\n"
     ]
    }
   ],
   "source": [
    "ans1= x * z\n",
    "print (ans1)"
   ]
  },
  {
   "cell_type": "code",
   "execution_count": 7,
   "id": "a997d26e",
   "metadata": {},
   "outputs": [
    {
     "data": {
      "text/plain": [
       "2.0"
      ]
     },
     "execution_count": 7,
     "metadata": {},
     "output_type": "execute_result"
    }
   ],
   "source": [
    "ans2= z / x\n",
    "ans2"
   ]
  },
  {
   "cell_type": "code",
   "execution_count": 9,
   "id": "c2bbc648",
   "metadata": {},
   "outputs": [
    {
     "data": {
      "text/plain": [
       "1"
      ]
     },
     "execution_count": 9,
     "metadata": {},
     "output_type": "execute_result"
    }
   ],
   "source": [
    "a = 7\n",
    "b = 3\n",
    "ans3= 7%3\n",
    "ans3"
   ]
  },
  {
   "cell_type": "code",
   "execution_count": 11,
   "id": "3b2b4b11",
   "metadata": {},
   "outputs": [
    {
     "data": {
      "text/plain": [
       "9"
      ]
     },
     "execution_count": 11,
     "metadata": {},
     "output_type": "execute_result"
    }
   ],
   "source": [
    "ans4 = b**2\n",
    "ans4"
   ]
  },
  {
   "cell_type": "code",
   "execution_count": 12,
   "id": "52865659",
   "metadata": {},
   "outputs": [
    {
     "data": {
      "text/plain": [
       "False"
      ]
     },
     "execution_count": 12,
     "metadata": {},
     "output_type": "execute_result"
    }
   ],
   "source": [
    "a<b"
   ]
  },
  {
   "cell_type": "code",
   "execution_count": null,
   "id": "2e752ac0",
   "metadata": {},
   "outputs": [],
   "source": [
    "strings"
   ]
  },
  {
   "cell_type": "code",
   "execution_count": 20,
   "id": "5ae732b0",
   "metadata": {},
   "outputs": [
    {
     "name": "stdout",
     "output_type": "stream",
     "text": [
      "Shiko\n"
     ]
    }
   ],
   "source": [
    "name = \"Shiko\"\n",
    "print (name)"
   ]
  },
  {
   "cell_type": "code",
   "execution_count": 21,
   "id": "0a5e5ed4",
   "metadata": {},
   "outputs": [
    {
     "name": "stdout",
     "output_type": "stream",
     "text": [
      "Wamboi\n"
     ]
    }
   ],
   "source": [
    "name2 = \"Wamboi\"\n",
    "print (name2)"
   ]
  },
  {
   "cell_type": "code",
   "execution_count": 24,
   "id": "7554ed48",
   "metadata": {},
   "outputs": [
    {
     "name": "stdout",
     "output_type": "stream",
     "text": [
      "My friends are Shiko and Wamboi\n"
     ]
    }
   ],
   "source": [
    "newSentence = \"My friends are \" + name + \" and \" + name2\n",
    "print (newSentence)"
   ]
  },
  {
   "cell_type": "code",
   "execution_count": 26,
   "id": "c08dbdbb",
   "metadata": {},
   "outputs": [
    {
     "name": "stdout",
     "output_type": "stream",
     "text": [
      "what is your age 21\n"
     ]
    }
   ],
   "source": [
    "age = input(\"what is your age \")"
   ]
  },
  {
   "cell_type": "code",
   "execution_count": null,
   "id": "98463e93",
   "metadata": {},
   "outputs": [],
   "source": []
  },
  {
   "cell_type": "markdown",
   "id": "39f16f98",
   "metadata": {},
   "source": []
  }
 ],
 "metadata": {
  "kernelspec": {
   "display_name": "Python 3 (ipykernel)",
   "language": "python",
   "name": "python3"
  },
  "language_info": {
   "codemirror_mode": {
    "name": "ipython",
    "version": 3
   },
   "file_extension": ".py",
   "mimetype": "text/x-python",
   "name": "python",
   "nbconvert_exporter": "python",
   "pygments_lexer": "ipython3",
   "version": "3.9.13"
  }
 },
 "nbformat": 4,
 "nbformat_minor": 5
}
